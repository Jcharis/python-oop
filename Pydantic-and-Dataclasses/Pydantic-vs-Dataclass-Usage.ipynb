{
 "cells": [
  {
   "cell_type": "markdown",
   "id": "a58baf69-1995-4135-b41b-8f127cf57d2b",
   "metadata": {},
   "source": [
    "### Pydantic & Dataclasses\n",
    "+ Pydantic\n",
    "  - pydantic.dataclasses\n",
    "+ Dataclasses\n",
    "      - init, repr, dunder method\n",
    "\n",
    "\n",
    "#### Tips\n",
    "+ how to allow extra kwargs in pydantic\n",
    "+ how to allow extra kwargs in dataclasses\n"
   ]
  },
  {
   "cell_type": "code",
   "execution_count": 1,
   "id": "15daea07-0749-428a-857f-4d4f39885159",
   "metadata": {},
   "outputs": [
    {
     "data": {
      "text/plain": [
       "'2.5.3'"
      ]
     },
     "execution_count": 1,
     "metadata": {},
     "output_type": "execute_result"
    }
   ],
   "source": [
    "import pydantic\n",
    "pydantic.__version__"
   ]
  },
  {
   "cell_type": "code",
   "execution_count": 20,
   "id": "42c4e919-0cd1-47b7-90b6-fbe42ead45f4",
   "metadata": {},
   "outputs": [],
   "source": [
    "from pydantic import BaseModel,ConfigDict"
   ]
  },
  {
   "cell_type": "code",
   "execution_count": 21,
   "id": "de0b0779-2539-45aa-9047-e95eb5ab53a6",
   "metadata": {},
   "outputs": [],
   "source": [
    "class Books(BaseModel):\n",
    "    name: str\n",
    "    price: float"
   ]
  },
  {
   "cell_type": "code",
   "execution_count": 22,
   "id": "b77ad732-ecb2-430b-88b1-33fb33e564e3",
   "metadata": {},
   "outputs": [],
   "source": [
    "# Create an instance or object\n",
    "bk = Books(name=\"Book of Jesse\",price=45)"
   ]
  },
  {
   "cell_type": "code",
   "execution_count": 23,
   "id": "e4ebc51a-3c20-4569-9c70-a2590ed5df11",
   "metadata": {},
   "outputs": [
    {
     "data": {
      "text/plain": [
       "Books(name='Book of Jesse', price=45.0)"
      ]
     },
     "execution_count": 23,
     "metadata": {},
     "output_type": "execute_result"
    }
   ],
   "source": [
    "bk"
   ]
  },
  {
   "cell_type": "code",
   "execution_count": 24,
   "id": "71c8326a-35e3-4e3c-80e7-6bd0ed01025d",
   "metadata": {},
   "outputs": [
    {
     "data": {
      "text/plain": [
       "'Book of Jesse'"
      ]
     },
     "execution_count": 24,
     "metadata": {},
     "output_type": "execute_result"
    }
   ],
   "source": [
    "bk.name"
   ]
  },
  {
   "cell_type": "code",
   "execution_count": 25,
   "id": "67965085-c7e5-42e2-b28e-84a858994b24",
   "metadata": {},
   "outputs": [
    {
     "data": {
      "text/plain": [
       "45.0"
      ]
     },
     "execution_count": 25,
     "metadata": {},
     "output_type": "execute_result"
    }
   ],
   "source": [
    "bk.price"
   ]
  },
  {
   "cell_type": "code",
   "execution_count": 26,
   "id": "1344cf36-af77-4ff8-bdb1-60049440b421",
   "metadata": {},
   "outputs": [
    {
     "data": {
      "text/plain": [
       "{'name': 'Book of Jesse', 'price': 45.0}"
      ]
     },
     "execution_count": 26,
     "metadata": {},
     "output_type": "execute_result"
    }
   ],
   "source": [
    "# dump as dict\n",
    "bk.model_dump()"
   ]
  },
  {
   "cell_type": "code",
   "execution_count": 28,
   "id": "53174590-db36-457e-b429-befb2dec2334",
   "metadata": {},
   "outputs": [
    {
     "data": {
      "text/plain": [
       "Books(name='Book of Jesse', price=45.0)"
      ]
     },
     "execution_count": 28,
     "metadata": {},
     "output_type": "execute_result"
    }
   ],
   "source": [
    "bk = Books(name=\"Book of Jesse\",price=45,author=\"Jesse\")\n",
    "bk"
   ]
  },
  {
   "cell_type": "code",
   "execution_count": 29,
   "id": "8e549961-d4cc-4dea-aabc-cad273f8c7e4",
   "metadata": {},
   "outputs": [
    {
     "ename": "AttributeError",
     "evalue": "'Books' object has no attribute 'author'",
     "output_type": "error",
     "traceback": [
      "\u001b[1;31m---------------------------------------------------------------------------\u001b[0m",
      "\u001b[1;31mAttributeError\u001b[0m                            Traceback (most recent call last)",
      "Cell \u001b[1;32mIn[29], line 1\u001b[0m\n\u001b[1;32m----> 1\u001b[0m \u001b[43mbk\u001b[49m\u001b[38;5;241;43m.\u001b[39;49m\u001b[43mauthor\u001b[49m\n",
      "File \u001b[1;32m~\\AppData\\Roaming\\Python\\Python311\\site-packages\\pydantic\\main.py:761\u001b[0m, in \u001b[0;36mBaseModel.__getattr__\u001b[1;34m(self, item)\u001b[0m\n\u001b[0;32m    758\u001b[0m     \u001b[38;5;28;01mreturn\u001b[39;00m \u001b[38;5;28msuper\u001b[39m()\u001b[38;5;241m.\u001b[39m\u001b[38;5;21m__getattribute__\u001b[39m(item)  \u001b[38;5;66;03m# Raises AttributeError if appropriate\u001b[39;00m\n\u001b[0;32m    759\u001b[0m \u001b[38;5;28;01melse\u001b[39;00m:\n\u001b[0;32m    760\u001b[0m     \u001b[38;5;66;03m# this is the current error\u001b[39;00m\n\u001b[1;32m--> 761\u001b[0m     \u001b[38;5;28;01mraise\u001b[39;00m \u001b[38;5;167;01mAttributeError\u001b[39;00m(\u001b[38;5;124mf\u001b[39m\u001b[38;5;124m'\u001b[39m\u001b[38;5;132;01m{\u001b[39;00m\u001b[38;5;28mtype\u001b[39m(\u001b[38;5;28mself\u001b[39m)\u001b[38;5;241m.\u001b[39m\u001b[38;5;18m__name__\u001b[39m\u001b[38;5;132;01m!r}\u001b[39;00m\u001b[38;5;124m object has no attribute \u001b[39m\u001b[38;5;132;01m{\u001b[39;00mitem\u001b[38;5;132;01m!r}\u001b[39;00m\u001b[38;5;124m'\u001b[39m)\n",
      "\u001b[1;31mAttributeError\u001b[0m: 'Books' object has no attribute 'author'"
     ]
    }
   ],
   "source": [
    "bk.author"
   ]
  },
  {
   "cell_type": "code",
   "execution_count": null,
   "id": "63cc36c5-9c07-47ad-b692-52235be4bc87",
   "metadata": {
    "jupyter": {
     "source_hidden": true
    }
   },
   "outputs": [],
   "source": [
    "# Pure python\n",
    "class BooksPy:\n",
    "    def __init__(self,name,price,**kwargs):\n",
    "        self.name = name\n",
    "        self.price = price\n",
    "        "
   ]
  },
  {
   "cell_type": "code",
   "execution_count": 30,
   "id": "28d50adb-ccd4-4aa2-b6f6-bf614457dc43",
   "metadata": {},
   "outputs": [],
   "source": [
    "class BooksExtra(BaseModel):\n",
    "    name: str\n",
    "    price: float\n",
    "    model_config = ConfigDict(extra=\"allow\")"
   ]
  },
  {
   "cell_type": "code",
   "execution_count": 31,
   "id": "be98bdab-8df8-40c5-ae09-539da560b0ff",
   "metadata": {},
   "outputs": [
    {
     "data": {
      "text/plain": [
       "BooksExtra(name='Book of Jesse', price=45.0, author='Jesse')"
      ]
     },
     "execution_count": 31,
     "metadata": {},
     "output_type": "execute_result"
    }
   ],
   "source": [
    "bk = BooksExtra(name=\"Book of Jesse\",price=45,author=\"Jesse\")\n",
    "bk"
   ]
  },
  {
   "cell_type": "code",
   "execution_count": 32,
   "id": "7c2a4269-3999-4fef-9dbe-52483e4c556f",
   "metadata": {},
   "outputs": [
    {
     "data": {
      "text/plain": [
       "'Jesse'"
      ]
     },
     "execution_count": 32,
     "metadata": {},
     "output_type": "execute_result"
    }
   ],
   "source": [
    "bk.author"
   ]
  },
  {
   "cell_type": "code",
   "execution_count": 33,
   "id": "0637ca97-25de-4487-a728-35f96cf0480b",
   "metadata": {},
   "outputs": [],
   "source": [
    "params = {'name': 'Book of Paul', 'price': 55.0,'author': 'Paul', 'year': 1965}"
   ]
  },
  {
   "cell_type": "code",
   "execution_count": 34,
   "id": "d641f005-cb9f-4b75-bfa1-d5379c4df296",
   "metadata": {},
   "outputs": [
    {
     "data": {
      "text/plain": [
       "Books(name='Book of Paul', price=55.0)"
      ]
     },
     "execution_count": 34,
     "metadata": {},
     "output_type": "execute_result"
    }
   ],
   "source": [
    "Books(**params)"
   ]
  },
  {
   "cell_type": "code",
   "execution_count": 35,
   "id": "9df89c5d-1e9b-4511-856e-446d1496c9a8",
   "metadata": {},
   "outputs": [
    {
     "data": {
      "text/plain": [
       "BooksExtra(name='Book of Paul', price=55.0, author='Paul', year=1965)"
      ]
     },
     "execution_count": 35,
     "metadata": {},
     "output_type": "execute_result"
    }
   ],
   "source": [
    "# allow extra\n",
    "BooksExtra(**params)"
   ]
  },
  {
   "cell_type": "markdown",
   "id": "ce510f42-b786-4dd8-b2e0-348927ca54e2",
   "metadata": {},
   "source": [
    "### How to support extra kwargs in Dataclass"
   ]
  },
  {
   "cell_type": "code",
   "execution_count": 36,
   "id": "ab1b70dd-9953-4225-8181-4dc1c8622bf4",
   "metadata": {},
   "outputs": [],
   "source": [
    "from dataclasses import dataclass, field"
   ]
  },
  {
   "cell_type": "code",
   "execution_count": 38,
   "id": "c35e773c-0595-41a5-bb9f-9959fef31baa",
   "metadata": {},
   "outputs": [],
   "source": [
    "@dataclass\n",
    "class BookDC:\n",
    "    name: str\n",
    "    price: float\n",
    "    \n",
    "   \n",
    "    "
   ]
  },
  {
   "cell_type": "code",
   "execution_count": 40,
   "id": "36bd3e69-433c-4de0-aa8a-68dd21be9ff9",
   "metadata": {},
   "outputs": [],
   "source": [
    "bk2 = BookDC(name='Book of Jesse', price=45.0)"
   ]
  },
  {
   "cell_type": "code",
   "execution_count": 41,
   "id": "0920b5a1-ecc8-4c3b-8563-e04cba95a7c3",
   "metadata": {},
   "outputs": [
    {
     "data": {
      "text/plain": [
       "BookDC(name='Book of Jesse', price=45.0)"
      ]
     },
     "execution_count": 41,
     "metadata": {},
     "output_type": "execute_result"
    }
   ],
   "source": [
    "bk2"
   ]
  },
  {
   "cell_type": "code",
   "execution_count": 42,
   "id": "2eb745a9-82cf-4d3f-aca9-c1df3e0a8b6d",
   "metadata": {},
   "outputs": [
    {
     "data": {
      "text/plain": [
       "'Book of Jesse'"
      ]
     },
     "execution_count": 42,
     "metadata": {},
     "output_type": "execute_result"
    }
   ],
   "source": [
    "bk2.name"
   ]
  },
  {
   "cell_type": "code",
   "execution_count": 43,
   "id": "706bbd4c-bea3-47db-a7f7-877118a3407f",
   "metadata": {},
   "outputs": [
    {
     "data": {
      "text/plain": [
       "45.0"
      ]
     },
     "execution_count": 43,
     "metadata": {},
     "output_type": "execute_result"
    }
   ],
   "source": [
    "bk2.price"
   ]
  },
  {
   "cell_type": "code",
   "execution_count": 44,
   "id": "7dbe9329-6fd0-4303-89d6-1a5ee41e0b63",
   "metadata": {},
   "outputs": [
    {
     "data": {
      "text/plain": [
       "{'name': 'Book of Jesse', 'price': 45.0}"
      ]
     },
     "execution_count": 44,
     "metadata": {},
     "output_type": "execute_result"
    }
   ],
   "source": [
    "# Convert to dict\n",
    "from dataclasses import asdict\n",
    "asdict(bk2)"
   ]
  },
  {
   "cell_type": "code",
   "execution_count": 47,
   "id": "441e4ecc-b438-4e6b-8e61-8cc7352a4b05",
   "metadata": {},
   "outputs": [
    {
     "name": "stdout",
     "output_type": "stream",
     "text": [
      "{'name': 'Book of Paul', 'price': 55.0, 'author': 'Paul', 'year': 1965}\n"
     ]
    },
    {
     "ename": "TypeError",
     "evalue": "BookDC.__init__() got an unexpected keyword argument 'author'",
     "output_type": "error",
     "traceback": [
      "\u001b[1;31m---------------------------------------------------------------------------\u001b[0m",
      "\u001b[1;31mTypeError\u001b[0m                                 Traceback (most recent call last)",
      "Cell \u001b[1;32mIn[47], line 3\u001b[0m\n\u001b[0;32m      1\u001b[0m \u001b[38;5;66;03m# allow extra\u001b[39;00m\n\u001b[0;32m      2\u001b[0m \u001b[38;5;28mprint\u001b[39m(params)\n\u001b[1;32m----> 3\u001b[0m \u001b[43mBookDC\u001b[49m\u001b[43m(\u001b[49m\u001b[38;5;241;43m*\u001b[39;49m\u001b[38;5;241;43m*\u001b[39;49m\u001b[43mparams\u001b[49m\u001b[43m)\u001b[49m\n",
      "\u001b[1;31mTypeError\u001b[0m: BookDC.__init__() got an unexpected keyword argument 'author'"
     ]
    }
   ],
   "source": [
    "# allow extra\n",
    "print(params)\n",
    "BookDC(**params)"
   ]
  },
  {
   "cell_type": "code",
   "execution_count": 48,
   "id": "985ccb5d-aa88-40c1-819a-9950a28864f5",
   "metadata": {},
   "outputs": [],
   "source": [
    "from inspect import signature\n",
    "\n",
    "def add_from_kwargs(cls):\n",
    "    def from_kwargs(cls, **kwargs):\n",
    "        # fetch the constructor's signature\n",
    "        cls_fields = {field for field in signature(cls).parameters}\n",
    "\n",
    "        # split the kwargs into native ones and new ones\n",
    "        native_args, new_args = {}, {}\n",
    "        for name, val in kwargs.items():\n",
    "            if name in cls_fields:\n",
    "                native_args[name] = val\n",
    "            else:\n",
    "                new_args[name] = val\n",
    "\n",
    "        # use the native ones to create the class ...\n",
    "        ret = cls(**native_args)\n",
    "\n",
    "        # ... and add the new ones by hand\n",
    "        for new_name, new_val in new_args.items():\n",
    "            setattr(ret, new_name, new_val)\n",
    "        return ret\n",
    "    cls.from_kwargs = classmethod(from_kwargs)\n",
    "    return cls\n",
    "        "
   ]
  },
  {
   "cell_type": "code",
   "execution_count": 49,
   "id": "61203bb7-c35c-4a0b-9f7e-241e9ba9bdd5",
   "metadata": {},
   "outputs": [],
   "source": [
    "@add_from_kwargs\n",
    "@dataclass\n",
    "class BookDC:\n",
    "    name: str\n",
    "    price: float\n",
    "    "
   ]
  },
  {
   "cell_type": "code",
   "execution_count": 50,
   "id": "7856609d-9e87-4666-b623-389c44b19d26",
   "metadata": {},
   "outputs": [],
   "source": [
    "bk2 = BookDC(name='Book of Jesse', price=45.0)"
   ]
  },
  {
   "cell_type": "code",
   "execution_count": 51,
   "id": "4949efab-ae14-4386-9347-379346ab55c7",
   "metadata": {},
   "outputs": [
    {
     "data": {
      "text/plain": [
       "BookDC(name='Book of Jesse', price=45.0)"
      ]
     },
     "execution_count": 51,
     "metadata": {},
     "output_type": "execute_result"
    }
   ],
   "source": [
    "bk2"
   ]
  },
  {
   "cell_type": "code",
   "execution_count": 52,
   "id": "fd1fe70d-0f6d-4d38-aeb9-8362cd99fe34",
   "metadata": {},
   "outputs": [
    {
     "ename": "TypeError",
     "evalue": "BookDC.__init__() got an unexpected keyword argument 'author'",
     "output_type": "error",
     "traceback": [
      "\u001b[1;31m---------------------------------------------------------------------------\u001b[0m",
      "\u001b[1;31mTypeError\u001b[0m                                 Traceback (most recent call last)",
      "Cell \u001b[1;32mIn[52], line 1\u001b[0m\n\u001b[1;32m----> 1\u001b[0m bk2 \u001b[38;5;241m=\u001b[39m \u001b[43mBookDC\u001b[49m\u001b[43m(\u001b[49m\u001b[43mname\u001b[49m\u001b[38;5;241;43m=\u001b[39;49m\u001b[38;5;124;43m'\u001b[39;49m\u001b[38;5;124;43mBook of Jesse\u001b[39;49m\u001b[38;5;124;43m'\u001b[39;49m\u001b[43m,\u001b[49m\u001b[43m \u001b[49m\u001b[43mprice\u001b[49m\u001b[38;5;241;43m=\u001b[39;49m\u001b[38;5;241;43m45.0\u001b[39;49m\u001b[43m,\u001b[49m\u001b[43mauthor\u001b[49m\u001b[38;5;241;43m=\u001b[39;49m\u001b[38;5;124;43m\"\u001b[39;49m\u001b[38;5;124;43mJesse\u001b[39;49m\u001b[38;5;124;43m\"\u001b[39;49m\u001b[43m)\u001b[49m\n",
      "\u001b[1;31mTypeError\u001b[0m: BookDC.__init__() got an unexpected keyword argument 'author'"
     ]
    }
   ],
   "source": [
    "bk2 = BookDC(name='Book of Jesse', price=45.0,author=\"Jesse\")"
   ]
  },
  {
   "cell_type": "code",
   "execution_count": 53,
   "id": "2b92b48a-78ea-4fb7-b446-73891b6455e7",
   "metadata": {},
   "outputs": [],
   "source": [
    "params = {'name': 'Book of Paul', 'price': 55.0, 'author': 'Paul', 'year': 1965}\n",
    "bk3 = BookDC.from_kwargs(**params)"
   ]
  },
  {
   "cell_type": "code",
   "execution_count": 54,
   "id": "22f5c2e1-05bc-4ab9-a58c-4c38eb36028c",
   "metadata": {},
   "outputs": [
    {
     "data": {
      "text/plain": [
       "BookDC(name='Book of Paul', price=55.0)"
      ]
     },
     "execution_count": 54,
     "metadata": {},
     "output_type": "execute_result"
    }
   ],
   "source": [
    "bk3"
   ]
  },
  {
   "cell_type": "code",
   "execution_count": 55,
   "id": "e92f140d-c4bf-46e7-8fbd-fe0169d768db",
   "metadata": {},
   "outputs": [
    {
     "data": {
      "text/plain": [
       "'Paul'"
      ]
     },
     "execution_count": 55,
     "metadata": {},
     "output_type": "execute_result"
    }
   ],
   "source": [
    "bk3.author"
   ]
  },
  {
   "cell_type": "code",
   "execution_count": 56,
   "id": "94016e7f-6d5f-4f7a-a7fd-fa83a3afe857",
   "metadata": {},
   "outputs": [
    {
     "data": {
      "text/plain": [
       "1965"
      ]
     },
     "execution_count": 56,
     "metadata": {},
     "output_type": "execute_result"
    }
   ],
   "source": [
    "bk3.year"
   ]
  },
  {
   "cell_type": "code",
   "execution_count": 59,
   "id": "c06a6514-719d-400e-ac47-ece6ae62c708",
   "metadata": {},
   "outputs": [
    {
     "ename": "TypeError",
     "evalue": "BookDC.__init__() takes 3 positional arguments but 5 were given",
     "output_type": "error",
     "traceback": [
      "\u001b[1;31m---------------------------------------------------------------------------\u001b[0m",
      "\u001b[1;31mTypeError\u001b[0m                                 Traceback (most recent call last)",
      "Cell \u001b[1;32mIn[59], line 1\u001b[0m\n\u001b[1;32m----> 1\u001b[0m bk4 \u001b[38;5;241m=\u001b[39m \u001b[43mBookDC\u001b[49m\u001b[43m(\u001b[49m\u001b[38;5;241;43m*\u001b[39;49m\u001b[43mparams\u001b[49m\u001b[43m)\u001b[49m\n",
      "\u001b[1;31mTypeError\u001b[0m: BookDC.__init__() takes 3 positional arguments but 5 were given"
     ]
    }
   ],
   "source": [
    "bk4 = BookDC(*params)"
   ]
  },
  {
   "cell_type": "markdown",
   "id": "1e107ff7-87ba-469f-839e-9f6352140fc4",
   "metadata": {},
   "source": [
    "### Thanks \n",
    "Jesus Saves "
   ]
  },
  {
   "cell_type": "markdown",
   "id": "cb778e6a-d31f-4aee-b025-22d2295c395b",
   "metadata": {},
   "source": [
    "#### How to Use Nested Data in Pydantic and Dataclasses\n"
   ]
  },
  {
   "cell_type": "code",
   "execution_count": 60,
   "id": "f8b3a2e3-af33-495a-ac71-4a1ec3476bd0",
   "metadata": {},
   "outputs": [],
   "source": [
    "from pydantic import BaseModel\n",
    "\n",
    "class Author(BaseModel):\n",
    "    author_name: str\n",
    "    age: int\n",
    "\n",
    "\n",
    "class Books(BaseModel):\n",
    "    name: str\n",
    "    price: float\n",
    "    author: Author"
   ]
  },
  {
   "cell_type": "code",
   "execution_count": 61,
   "id": "7645c0b3-31c1-48f7-a431-0b139b62d4dc",
   "metadata": {},
   "outputs": [],
   "source": [
    "author = Author(author_name=\"Paul\",age=65)\n",
    "bk = Books(name=\"Romans\",price=40,author=author)"
   ]
  },
  {
   "cell_type": "code",
   "execution_count": 62,
   "id": "678ee572-dd2f-4de0-86c8-2947bb2909f1",
   "metadata": {},
   "outputs": [
    {
     "data": {
      "text/plain": [
       "Books(name='Romans', price=40.0, author=Author(author_name='Paul', age=65))"
      ]
     },
     "execution_count": 62,
     "metadata": {},
     "output_type": "execute_result"
    }
   ],
   "source": [
    "bk"
   ]
  },
  {
   "cell_type": "code",
   "execution_count": 63,
   "id": "b3c3eddb-222b-4c4e-b6a5-2b08cddd2691",
   "metadata": {},
   "outputs": [
    {
     "data": {
      "text/plain": [
       "{'name': 'Romans', 'price': 40.0, 'author': {'author_name': 'Paul', 'age': 65}}"
      ]
     },
     "execution_count": 63,
     "metadata": {},
     "output_type": "execute_result"
    }
   ],
   "source": [
    "bk.model_dump()"
   ]
  },
  {
   "cell_type": "code",
   "execution_count": 65,
   "id": "2f41008b-3ac1-4718-a43b-b2414066dda4",
   "metadata": {
    "collapsed": true,
    "jupyter": {
     "outputs_hidden": true
    },
    "scrolled": true
   },
   "outputs": [
    {
     "data": {
      "text/plain": [
       "{'$defs': {'Author': {'properties': {'author_name': {'title': 'Author Name',\n",
       "     'type': 'string'},\n",
       "    'age': {'title': 'Age', 'type': 'integer'}},\n",
       "   'required': ['author_name', 'age'],\n",
       "   'title': 'Author',\n",
       "   'type': 'object'}},\n",
       " 'properties': {'name': {'title': 'Name', 'type': 'string'},\n",
       "  'price': {'title': 'Price', 'type': 'number'},\n",
       "  'author': {'$ref': '#/$defs/Author'}},\n",
       " 'required': ['name', 'price', 'author'],\n",
       " 'title': 'Books',\n",
       " 'type': 'object'}"
      ]
     },
     "execution_count": 65,
     "metadata": {},
     "output_type": "execute_result"
    }
   ],
   "source": [
    "bk.model_json_schema()"
   ]
  },
  {
   "cell_type": "code",
   "execution_count": 66,
   "id": "afae96db-0d73-4867-b082-7e7c0f3a9398",
   "metadata": {},
   "outputs": [
    {
     "data": {
      "text/plain": [
       "Author(author_name='Paul', age=65)"
      ]
     },
     "execution_count": 66,
     "metadata": {},
     "output_type": "execute_result"
    }
   ],
   "source": [
    "# Traverse \n",
    "bk.author"
   ]
  },
  {
   "cell_type": "code",
   "execution_count": 67,
   "id": "c06036d5-d95d-4b23-89a5-47144ecca0ee",
   "metadata": {},
   "outputs": [
    {
     "data": {
      "text/plain": [
       "65"
      ]
     },
     "execution_count": 67,
     "metadata": {},
     "output_type": "execute_result"
    }
   ],
   "source": [
    "bk.author.age"
   ]
  },
  {
   "cell_type": "code",
   "execution_count": 70,
   "id": "0795bed8-d8d2-462e-82b6-13e25f76350f",
   "metadata": {},
   "outputs": [],
   "source": [
    "# Create another instance from json/dict\n",
    "data = {'name': 'Harry Porter', 'price': 40.0, 'author': {'author_name': 'Paul', 'age': 65}}\n",
    "bk2 = Books(**data)"
   ]
  },
  {
   "cell_type": "code",
   "execution_count": 71,
   "id": "ffaf90a7-ae68-4740-92de-2e939b58f893",
   "metadata": {},
   "outputs": [
    {
     "data": {
      "text/plain": [
       "Books(name='Harry Porter', price=40.0, author=Author(author_name='Paul', age=65))"
      ]
     },
     "execution_count": 71,
     "metadata": {},
     "output_type": "execute_result"
    }
   ],
   "source": [
    "bk2"
   ]
  },
  {
   "cell_type": "code",
   "execution_count": 72,
   "id": "9ca19a3d-221f-4791-b494-3248459769f2",
   "metadata": {},
   "outputs": [
    {
     "data": {
      "text/plain": [
       "'Paul'"
      ]
     },
     "execution_count": 72,
     "metadata": {},
     "output_type": "execute_result"
    }
   ],
   "source": [
    "bk2.author.author_name"
   ]
  },
  {
   "cell_type": "markdown",
   "id": "892f9e5e-a3fc-4e1a-98d5-92e43d6e99c6",
   "metadata": {},
   "source": [
    "### Using Dataclasses For Nested Data"
   ]
  },
  {
   "cell_type": "code",
   "execution_count": 73,
   "id": "dd268da6-74ef-475a-bf14-82be47289e73",
   "metadata": {},
   "outputs": [],
   "source": [
    "from dataclasses import dataclass, asdict"
   ]
  },
  {
   "cell_type": "code",
   "execution_count": 74,
   "id": "0410fc84-3910-4c51-8999-c0e728865021",
   "metadata": {},
   "outputs": [],
   "source": [
    "@dataclass\n",
    "class AuthorDC:\n",
    "    author_name: str\n",
    "    age: int\n",
    "\n",
    "\n",
    "@dataclass\n",
    "class BookDC:\n",
    "    name: str\n",
    "    price: float\n",
    "    author: Author\n",
    "    "
   ]
  },
  {
   "cell_type": "code",
   "execution_count": 75,
   "id": "543bbaf2-1682-433e-83f3-985be1487a71",
   "metadata": {},
   "outputs": [],
   "source": [
    "author_dc = AuthorDC(author_name=\"Enoch\",age=365)\n",
    "bkdc1 = BookDC(name=\"Book of Enoch\",price=40,author=author_dc)"
   ]
  },
  {
   "cell_type": "code",
   "execution_count": 76,
   "id": "a4cffb86-63a1-46a6-b589-359486064a1e",
   "metadata": {},
   "outputs": [
    {
     "data": {
      "text/plain": [
       "BookDC(name='Book of Enoch', price=40, author=AuthorDC(author_name='Enoch', age=365))"
      ]
     },
     "execution_count": 76,
     "metadata": {},
     "output_type": "execute_result"
    }
   ],
   "source": [
    "bkdc1"
   ]
  },
  {
   "cell_type": "code",
   "execution_count": 77,
   "id": "79ad82ad-7c5c-411d-9bc2-4bbd07ec1b14",
   "metadata": {},
   "outputs": [
    {
     "data": {
      "text/plain": [
       "'Book of Enoch'"
      ]
     },
     "execution_count": 77,
     "metadata": {},
     "output_type": "execute_result"
    }
   ],
   "source": [
    "bkdc1.name"
   ]
  },
  {
   "cell_type": "code",
   "execution_count": 78,
   "id": "6278410f-5d24-43e7-9dee-94bb0306238b",
   "metadata": {},
   "outputs": [
    {
     "data": {
      "text/plain": [
       "AuthorDC(author_name='Enoch', age=365)"
      ]
     },
     "execution_count": 78,
     "metadata": {},
     "output_type": "execute_result"
    }
   ],
   "source": [
    "bkdc1.author"
   ]
  },
  {
   "cell_type": "code",
   "execution_count": 79,
   "id": "0cf5fcfe-8ce1-47b9-a778-856eaaf9dea8",
   "metadata": {},
   "outputs": [
    {
     "data": {
      "text/plain": [
       "365"
      ]
     },
     "execution_count": 79,
     "metadata": {},
     "output_type": "execute_result"
    }
   ],
   "source": [
    "bkdc1.author.age"
   ]
  },
  {
   "cell_type": "code",
   "execution_count": 80,
   "id": "ae8d2178-3c6d-4900-af7e-1074bd84806d",
   "metadata": {},
   "outputs": [
    {
     "data": {
      "text/plain": [
       "{'name': 'Harry Porter',\n",
       " 'price': 40.0,\n",
       " 'author': {'author_name': 'Paul', 'age': 65}}"
      ]
     },
     "execution_count": 80,
     "metadata": {},
     "output_type": "execute_result"
    }
   ],
   "source": [
    "data"
   ]
  },
  {
   "cell_type": "code",
   "execution_count": 82,
   "id": "94adb31c-cdf9-4e18-af5e-d950d53ec6f2",
   "metadata": {},
   "outputs": [],
   "source": [
    "# create an instance from the nested data\n",
    "bk3 = BookDC(**data)"
   ]
  },
  {
   "cell_type": "code",
   "execution_count": 83,
   "id": "968b416d-bc9e-49bd-8ad5-bbb27801c91d",
   "metadata": {},
   "outputs": [
    {
     "data": {
      "text/plain": [
       "BookDC(name='Harry Porter', price=40.0, author={'author_name': 'Paul', 'age': 65})"
      ]
     },
     "execution_count": 83,
     "metadata": {},
     "output_type": "execute_result"
    }
   ],
   "source": [
    "bk3"
   ]
  },
  {
   "cell_type": "code",
   "execution_count": 86,
   "id": "6ef3662f-37a2-48e1-8d16-521bbab2cbe5",
   "metadata": {},
   "outputs": [
    {
     "data": {
      "text/plain": [
       "{'author_name': 'Paul', 'age': 65}"
      ]
     },
     "execution_count": 86,
     "metadata": {},
     "output_type": "execute_result"
    }
   ],
   "source": [
    "bk3.author"
   ]
  },
  {
   "cell_type": "code",
   "execution_count": 87,
   "id": "620ba23d-69c8-4c20-9d1c-4137378e6535",
   "metadata": {},
   "outputs": [
    {
     "ename": "AttributeError",
     "evalue": "'dict' object has no attribute 'age'",
     "output_type": "error",
     "traceback": [
      "\u001b[1;31m---------------------------------------------------------------------------\u001b[0m",
      "\u001b[1;31mAttributeError\u001b[0m                            Traceback (most recent call last)",
      "Cell \u001b[1;32mIn[87], line 1\u001b[0m\n\u001b[1;32m----> 1\u001b[0m \u001b[43mbk3\u001b[49m\u001b[38;5;241;43m.\u001b[39;49m\u001b[43mauthor\u001b[49m\u001b[38;5;241;43m.\u001b[39;49m\u001b[43mage\u001b[49m\n",
      "\u001b[1;31mAttributeError\u001b[0m: 'dict' object has no attribute 'age'"
     ]
    }
   ],
   "source": [
    "bk3.author.age"
   ]
  },
  {
   "cell_type": "code",
   "execution_count": 96,
   "id": "db4647fc-aca6-45ac-8709-ce66ed651a2b",
   "metadata": {},
   "outputs": [],
   "source": [
    "# Solution is the post init\n",
    "@dataclass\n",
    "class BookDCwithPostInit:\n",
    "    name: str\n",
    "    price: float\n",
    "    author: Author\n",
    "\n",
    "    def __post_init__(self):\n",
    "        if isinstance(self.author,dict):\n",
    "            self.author = Author(**self.author)\n",
    "            "
   ]
  },
  {
   "cell_type": "code",
   "execution_count": 89,
   "id": "4b58bec5-a153-4f2b-b04b-909c2b8ff32d",
   "metadata": {},
   "outputs": [
    {
     "data": {
      "text/plain": [
       "{'name': 'Harry Porter',\n",
       " 'price': 40.0,\n",
       " 'author': {'author_name': 'Paul', 'age': 65}}"
      ]
     },
     "execution_count": 89,
     "metadata": {},
     "output_type": "execute_result"
    }
   ],
   "source": [
    "data"
   ]
  },
  {
   "cell_type": "code",
   "execution_count": 97,
   "id": "66a44141-0d8f-41d4-91e5-8d6de3d1dbfe",
   "metadata": {},
   "outputs": [],
   "source": [
    "# unpack the data and initialize\n",
    "# create an instance from the nested data\n",
    "bk4 = BookDCwithPostInit(**data)"
   ]
  },
  {
   "cell_type": "code",
   "execution_count": 99,
   "id": "7e84885b-c071-4d6a-a432-eff9091dcc4e",
   "metadata": {},
   "outputs": [
    {
     "data": {
      "text/plain": [
       "BookDCwithPostInit(name='Harry Porter', price=40.0, author=Author(author_name='Paul', age=65))"
      ]
     },
     "execution_count": 99,
     "metadata": {},
     "output_type": "execute_result"
    }
   ],
   "source": [
    "bk4"
   ]
  },
  {
   "cell_type": "code",
   "execution_count": 100,
   "id": "51196296-ead6-4415-95f9-b73c16f6b53b",
   "metadata": {},
   "outputs": [
    {
     "data": {
      "text/plain": [
       "'Harry Porter'"
      ]
     },
     "execution_count": 100,
     "metadata": {},
     "output_type": "execute_result"
    }
   ],
   "source": [
    "bk4.name"
   ]
  },
  {
   "cell_type": "code",
   "execution_count": 101,
   "id": "77426102-a235-49c5-b3e0-89e19c5f3de3",
   "metadata": {},
   "outputs": [
    {
     "data": {
      "text/plain": [
       "Author(author_name='Paul', age=65)"
      ]
     },
     "execution_count": 101,
     "metadata": {},
     "output_type": "execute_result"
    }
   ],
   "source": [
    "bk4.author"
   ]
  },
  {
   "cell_type": "code",
   "execution_count": 102,
   "id": "47152a2b-f2d3-4abd-98fb-b5bf90327087",
   "metadata": {},
   "outputs": [
    {
     "data": {
      "text/plain": [
       "65"
      ]
     },
     "execution_count": 102,
     "metadata": {},
     "output_type": "execute_result"
    }
   ],
   "source": [
    "bk4.author.age"
   ]
  },
  {
   "cell_type": "code",
   "execution_count": 1,
   "id": "efb9f3b4-7255-4c72-8028-748088975b83",
   "metadata": {},
   "outputs": [],
   "source": [
    "### Thanks For Your Time\n",
    "#### Jesus Saves @JCharisTech\n",
    "#### Jesse E.Agbe (JCharis)"
   ]
  },
  {
   "cell_type": "code",
   "execution_count": null,
   "id": "e802f65b-bf81-4cd6-a7bd-001cd2216125",
   "metadata": {},
   "outputs": [],
   "source": []
  }
 ],
 "metadata": {
  "kernelspec": {
   "display_name": "Python 3 (ipykernel)",
   "language": "python",
   "name": "python3"
  },
  "language_info": {
   "codemirror_mode": {
    "name": "ipython",
    "version": 3
   },
   "file_extension": ".py",
   "mimetype": "text/x-python",
   "name": "python",
   "nbconvert_exporter": "python",
   "pygments_lexer": "ipython3",
   "version": "3.11.4"
  }
 },
 "nbformat": 4,
 "nbformat_minor": 5
}
