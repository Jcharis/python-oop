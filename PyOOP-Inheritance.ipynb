{
 "cells": [
  {
   "cell_type": "markdown",
   "id": "892bafb3-4f60-4cd1-a09a-152d394e038e",
   "metadata": {},
   "source": [
    "### Inheritance,Mixins and Composition In Python\n",
    "\n",
    "\n",
    "#### Inheritance\n",
    "+ Single Inheritance\n",
    "    + Inherit,Overide,Extend\n",
    "+ Multi-level Inheritance\n",
    "+ Multiple Inheritance\n",
    "+ Mixins\n"
   ]
  },
  {
   "cell_type": "code",
   "execution_count": 1,
   "id": "4f506de0-e64d-49cc-b04b-969300e90ab6",
   "metadata": {},
   "outputs": [],
   "source": [
    "# Base Class of Person\n",
    "class Person:\n",
    "    def __init__(self,name,age):\n",
    "        self.name = name\n",
    "        self.age = age\n",
    "    \n",
    "    def __repr__(self):\n",
    "        \"\"\"For Developers to know how to create object with this class\"\"\"\n",
    "        return f\"{self.__class__.__name__}({self.name!r},{self.age!r})\" # !r is to put in quotes\n",
    "    \n",
    "    def __str__(self):\n",
    "        \"\"\"For Regular User\"\"\"\n",
    "        return f\"{self.__class__.__name__}(name={self.name},age={self.age})\"\n",
    "    "
   ]
  },
  {
   "cell_type": "code",
   "execution_count": 2,
   "id": "f7e050ab-ea3b-40d1-935b-cde9d4a0a39e",
   "metadata": {},
   "outputs": [
    {
     "name": "stdout",
     "output_type": "stream",
     "text": [
      "Person(name=John Mark,age=24)\n"
     ]
    }
   ],
   "source": [
    "p = Person(\"John Mark\",24)\n",
    "print(p)"
   ]
  },
  {
   "cell_type": "code",
   "execution_count": 4,
   "id": "335b2514-a938-483a-abc4-0db5274342b4",
   "metadata": {},
   "outputs": [
    {
     "name": "stdout",
     "output_type": "stream",
     "text": [
      "Pupil(name=Johnny Markus,age=12)\n"
     ]
    }
   ],
   "source": [
    "# Inheritance: Full Inheritance\n",
    "class Pupil(Person):\n",
    "    pass\n",
    "\n",
    "pl = Pupil(\"Johnny Markus\",12)\n",
    "print(pl)"
   ]
  },
  {
   "cell_type": "code",
   "execution_count": 19,
   "id": "860f696b-e709-44ec-b373-91b7c2acb77a",
   "metadata": {},
   "outputs": [
    {
     "name": "stdout",
     "output_type": "stream",
     "text": [
      "Student(name=Johnny Markus,age=12)\n",
      "johnny_markus12@gmail.com\n"
     ]
    }
   ],
   "source": [
    "# Inheritance: That Extends\n",
    "# call super to inherit attr from parent class\n",
    "class Student(Person):\n",
    "    def __init__(self,name,age,pid):\n",
    "        super().__init__(name,age) # attributes from the Parent Class\n",
    "        self.pid = pid\n",
    "    \n",
    "    def create_email(self):\n",
    "        return f\"{str(self.name).lower().replace(' ','_')}{self.age}@gmail.com\"\n",
    "\n",
    "s1 = Student(\"Johnny Markus\",12,\"SID001\")\n",
    "print(s1)\n",
    "print(s1.create_email())"
   ]
  },
  {
   "cell_type": "code",
   "execution_count": 23,
   "id": "84189776-db32-4614-8bc9-b5864b9149ed",
   "metadata": {},
   "outputs": [
    {
     "name": "stdout",
     "output_type": "stream",
     "text": [
      "Teacher(name=Johnny Markus,age=12)\n",
      "johnny_markus12@gmail.com\n",
      "Maths\n"
     ]
    }
   ],
   "source": [
    "# Inheritance: That Extends\n",
    "# call super to inherit attr from parent class\n",
    "class Teacher(Person):\n",
    "    def __init__(self,name,age,subjects=list()):\n",
    "        super().__init__(name,age) # attributes from the Parent Class\n",
    "        self.subjects = subjects\n",
    "    \n",
    "    def create_email(self):\n",
    "        return f\"{str(self.name).lower().replace(' ','_')}{self.age}@gmail.com\"\n",
    "\n",
    "    def add_subjects(self,value):\n",
    "        if type(self.subjects) == list:\n",
    "            self.subjects.append(value)\n",
    "        self.subjects = [self.subjects]\n",
    "        self.subjects.append(value)\n",
    "\n",
    "            \n",
    "t1 = Teacher(\"Johnny Markus\",12,\"Maths\")\n",
    "print(t1)\n",
    "print(t1.create_email())\n",
    "print(t1.subjects)"
   ]
  },
  {
   "cell_type": "code",
   "execution_count": 24,
   "id": "5f2b0a56-b115-4b08-aca4-85eb066146c4",
   "metadata": {},
   "outputs": [],
   "source": [
    "t1.add_subjects(\"Physics\")"
   ]
  },
  {
   "cell_type": "code",
   "execution_count": 25,
   "id": "69148587-28be-4afe-bedc-dce6a681d325",
   "metadata": {},
   "outputs": [
    {
     "data": {
      "text/plain": [
       "['Maths', 'Physics']"
      ]
     },
     "execution_count": 25,
     "metadata": {},
     "output_type": "execute_result"
    }
   ],
   "source": [
    "t1.subjects"
   ]
  },
  {
   "cell_type": "code",
   "execution_count": 26,
   "id": "28fbc146-8cf6-47da-8b66-22bb444bb909",
   "metadata": {},
   "outputs": [],
   "source": [
    "### Multiple Inheritance\n",
    "class TeachingAssistant(Student,Teacher):\n",
    "    pass"
   ]
  },
  {
   "cell_type": "code",
   "execution_count": 31,
   "id": "b4b4fcb6-2f7d-48f0-afcc-74fa6264a5d4",
   "metadata": {},
   "outputs": [
    {
     "name": "stdout",
     "output_type": "stream",
     "text": [
      "TeachingAssistant(name=Johnny Markus,age=12)\n",
      "[]\n"
     ]
    }
   ],
   "source": [
    "ta1 = TeachingAssistant(\"Johnny Markus\",12,\"Maths\")\n",
    "print(ta1)\n",
    "print(ta1.subjects)"
   ]
  },
  {
   "cell_type": "code",
   "execution_count": 34,
   "id": "2255a18c-9e59-47c0-9866-1c02158cb975",
   "metadata": {},
   "outputs": [],
   "source": [
    "# Solution 1\n",
    "### Multiple Inheritance\n",
    "class TeachingAssistant(Student,Teacher):\n",
    "    def __init__(self,name,age,pid,subjects):\n",
    "        Student.__init__(self,name,age,pid)\n",
    "        Teacher.__init__(self,name,age,subjects)\n",
    "        "
   ]
  },
  {
   "cell_type": "code",
   "execution_count": 37,
   "id": "4d154f98-c6b2-4891-967e-f8338cca42d7",
   "metadata": {},
   "outputs": [
    {
     "name": "stdout",
     "output_type": "stream",
     "text": [
      "TeachingAssistant(name=Johnny Markus,age=12)\n",
      "Maths\n",
      "ST12\n"
     ]
    }
   ],
   "source": [
    "ta1 = TeachingAssistant(\"Johnny Markus\",12,\"ST12\",\"Maths\")\n",
    "print(ta1)\n",
    "print(ta1.subjects)\n",
    "print(ta1.pid)"
   ]
  },
  {
   "cell_type": "code",
   "execution_count": 39,
   "id": "04b10829-f544-432b-ad19-cfde335cacf9",
   "metadata": {},
   "outputs": [
    {
     "data": {
      "text/plain": [
       "(__main__.TeachingAssistant,\n",
       " __main__.Student,\n",
       " __main__.Teacher,\n",
       " __main__.Person,\n",
       " object)"
      ]
     },
     "execution_count": 39,
     "metadata": {},
     "output_type": "execute_result"
    }
   ],
   "source": [
    "# Checking MRO\n",
    "TeachingAssistant.__mro__"
   ]
  },
  {
   "cell_type": "code",
   "execution_count": 42,
   "id": "e774dbc9-f2bc-4f44-a823-45cc7e5b80a6",
   "metadata": {},
   "outputs": [],
   "source": [
    "# Solution 2\n",
    "# Inheritance: That Extends\n",
    "class Student(Person):\n",
    "    def __init__(self,name,age,pid,**kwargs):\n",
    "        super().__init__(name,age,**kwargs) # attributes from the Parent Class\n",
    "        self.pid = pid\n",
    "    \n",
    "    def create_email(self):\n",
    "        return f\"{str(self.name).lower().replace(' ','_')}{self.age}@gmail.com\"\n",
    "\n",
    "\n",
    "\n",
    "# call super to inherit attr from parent class\n",
    "class Teacher(Person):\n",
    "    def __init__(self,name,age,subjects=list(),**kwargs):\n",
    "        super().__init__(name,age,**kwargs) # attributes from the Parent Class\n",
    "        self.subjects = subjects\n",
    "    \n",
    "    def create_email(self):\n",
    "        return f\"{str(self.name).lower().replace(' ','_')}{self.age}@gmail.com\"\n",
    "\n",
    "    def add_subjects(self,value):\n",
    "        if type(self.subjects) == list:\n",
    "            self.subjects.append(value)\n",
    "        self.subjects = [self.subjects]\n",
    "        self.subjects.append(value)\n",
    "\n",
    "\n",
    "### Multiple Inheritance\n",
    "class TeachingAssistant(Student,Teacher):\n",
    "    def __init__(self,name,age,pid,subjects):\n",
    "        # using super and **kwargs\n",
    "        super().__init__(name=name,age=age,pid=pid,subjects=subjects)\n",
    "        \n",
    "            \n"
   ]
  },
  {
   "cell_type": "code",
   "execution_count": 41,
   "id": "fd01c449-517c-49d6-9b3e-90930900a828",
   "metadata": {},
   "outputs": [
    {
     "name": "stdout",
     "output_type": "stream",
     "text": [
      "TeachingAssistant(name=Johnny Markus,age=12)\n",
      "Maths\n",
      "ST12\n"
     ]
    }
   ],
   "source": [
    "ta2 = TeachingAssistant(\"Johnny Markus\",12,\"ST12\",\"Maths\")\n",
    "print(ta2)\n",
    "print(ta2.subjects)\n",
    "print(ta2.pid)"
   ]
  },
  {
   "cell_type": "code",
   "execution_count": 43,
   "id": "bc6a2e85-44ea-413d-b63a-27d72cb394b9",
   "metadata": {},
   "outputs": [
    {
     "data": {
      "text/plain": [
       "'johnny_markus12@gmail.com'"
      ]
     },
     "execution_count": 43,
     "metadata": {},
     "output_type": "execute_result"
    }
   ],
   "source": [
    "ta2.create_email()"
   ]
  },
  {
   "cell_type": "markdown",
   "id": "b32a28f8-409f-4329-9cb9-174217154981",
   "metadata": {},
   "source": [
    "#### Mixins\n",
    "Mixins are an alternative class design pattern that avoids both single-inheritance class fragmentation and multiple-inheritance diamond dependencies.\n",
    "\n",
    "A mixin is a class that defines and implements a single, well-defined feature. Subclasses that inherit from the mixin inherit this feature—and nothing else.\n",
    "\n",
    "Mixins are a safe form of multiple inheritance. They enforce a new constraint on your classes: that all functionality relating to a specific feature must live in the appropriate mixin. Thus methods thus can't be defined in more than one place, and thus can't fall prey to diamond inheritance problems.\n",
    "\n",
    "Mixins are more legible than single inheritance classes. Flat \"single-level\" inheritance (courtesy of multiple inheritance!) and clear division of labor on a feature-to-feature basis makes it obvious which parent class is responsible for which object properties. In fact, mixins make it so obvious which features an object supports that oftentimes you can read it right off of the class signature:\n",
    "The important thing with mixins is that they allow you to add functionality to much different objects, that don't share a \"main\" subclass with this functionality but still share the code for it nonetheless.\n",
    "\n",
    "#### When to Use Mixins\n",
    "* You want to provide a lot of optional features for a class.\n",
    "* You want to use one particular feature in a lot of different classes.\n",
    "\n",
    "#### Difference Between Mixins\n",
    "Decorators wrap functionality around a piece of code.\n",
    "Mixins add functionality to code using Inheritance."
   ]
  },
  {
   "cell_type": "code",
   "execution_count": 53,
   "id": "92f8c313-6afd-441b-a464-c3e92e17bb6f",
   "metadata": {},
   "outputs": [],
   "source": [
    "# Solution3\n",
    "class TeacherMixin(object):\n",
    "    def __init__(self,name,age,pid,subjects):\n",
    "        super().__init__(name,age,pid)\n",
    "        self.subjects = subjects\n",
    "        \n"
   ]
  },
  {
   "cell_type": "code",
   "execution_count": 54,
   "id": "ebd7c604-6f3f-48b6-b76d-3d9ffb69284a",
   "metadata": {},
   "outputs": [],
   "source": [
    "class TeachingAssistant2(TeacherMixin,Student):\n",
    "    pass"
   ]
  },
  {
   "cell_type": "code",
   "execution_count": 55,
   "id": "e4255f60-1899-4a43-af97-c6365541f5ab",
   "metadata": {},
   "outputs": [
    {
     "name": "stdout",
     "output_type": "stream",
     "text": [
      "TeachingAssistant2(name=Johnny Markus,age=12)\n",
      "Maths\n",
      "ST12\n"
     ]
    }
   ],
   "source": [
    "ta2 = TeachingAssistant2(\"Johnny Markus\",12,\"ST12\",\"Maths\")\n",
    "print(ta2)\n",
    "print(ta2.subjects)\n",
    "print(ta2.pid)"
   ]
  },
  {
   "cell_type": "code",
   "execution_count": 67,
   "id": "8ce87c6d-24fe-4b37-a2c9-4237fbef6974",
   "metadata": {},
   "outputs": [],
   "source": [
    "class TeacherMixin(object):\n",
    "    def __init__(self,name,age,pid,subjects):\n",
    "        super().__init__(name,age,pid)\n",
    "        self.subjects = subjects\n",
    "    \n",
    "    def add_subjects(self,value):\n",
    "        if type(self.subjects) == list:\n",
    "            self.subjects.append(value)\n",
    "        self.subjects = [self.subjects]\n",
    "        self.subjects.append(value)\n",
    "        \n",
    "class TeacherMixin2(object):    \n",
    "    def add_subjects(self,value):\n",
    "        if type(self.subjects) == list:\n",
    "            self.subjects.append(value)\n",
    "        self.subjects = [self.subjects]\n",
    "        self.subjects.append(value)\n",
    "        \n",
    "        "
   ]
  },
  {
   "cell_type": "code",
   "execution_count": 65,
   "id": "c9b185ee-09cf-49c2-bc7c-780b22093fbd",
   "metadata": {},
   "outputs": [],
   "source": [
    "class TeachingAssistant2(TeacherMixin,Student):\n",
    "    pass"
   ]
  },
  {
   "cell_type": "code",
   "execution_count": 66,
   "id": "83462bc6-5396-4de0-9178-ebdf5b522510",
   "metadata": {},
   "outputs": [
    {
     "name": "stdout",
     "output_type": "stream",
     "text": [
      "TeachingAssistant2(name=Johnny Markus,age=12)\n",
      "Maths\n",
      "ST12\n"
     ]
    }
   ],
   "source": [
    "ta2 = TeachingAssistant2(\"Johnny Markus\",12,\"ST12\",\"Maths\")\n",
    "print(ta2)\n",
    "print(ta2.subjects)\n",
    "print(ta2.pid)"
   ]
  },
  {
   "cell_type": "code",
   "execution_count": 72,
   "id": "e6a2b958-93d5-4389-b6b7-b063b7700aa0",
   "metadata": {},
   "outputs": [],
   "source": [
    "class TeachingAssistant2(TeacherMixin2,Student):\n",
    "    pass"
   ]
  },
  {
   "cell_type": "code",
   "execution_count": 73,
   "id": "e92124b1-2338-4e17-b5d9-56087db09a26",
   "metadata": {},
   "outputs": [
    {
     "ename": "TypeError",
     "evalue": "Student.__init__() takes 4 positional arguments but 5 were given",
     "output_type": "error",
     "traceback": [
      "\u001b[0;31m---------------------------------------------------------------------------\u001b[0m",
      "\u001b[0;31mTypeError\u001b[0m                                 Traceback (most recent call last)",
      "Input \u001b[0;32mIn [73]\u001b[0m, in \u001b[0;36m<cell line: 1>\u001b[0;34m()\u001b[0m\n\u001b[0;32m----> 1\u001b[0m ta2 \u001b[38;5;241m=\u001b[39m \u001b[43mTeachingAssistant2\u001b[49m\u001b[43m(\u001b[49m\u001b[38;5;124;43m\"\u001b[39;49m\u001b[38;5;124;43mJohnny Markus\u001b[39;49m\u001b[38;5;124;43m\"\u001b[39;49m\u001b[43m,\u001b[49m\u001b[38;5;241;43m12\u001b[39;49m\u001b[43m,\u001b[49m\u001b[38;5;124;43m\"\u001b[39;49m\u001b[38;5;124;43mST12\u001b[39;49m\u001b[38;5;124;43m\"\u001b[39;49m\u001b[43m,\u001b[49m\u001b[38;5;124;43m\"\u001b[39;49m\u001b[38;5;124;43mMaths\u001b[39;49m\u001b[38;5;124;43m\"\u001b[39;49m\u001b[43m)\u001b[49m\n\u001b[1;32m      2\u001b[0m \u001b[38;5;28mprint\u001b[39m(ta2)\n\u001b[1;32m      3\u001b[0m \u001b[38;5;28mprint\u001b[39m(ta2\u001b[38;5;241m.\u001b[39msubjects)\n",
      "\u001b[0;31mTypeError\u001b[0m: Student.__init__() takes 4 positional arguments but 5 were given"
     ]
    }
   ],
   "source": [
    "ta2 = TeachingAssistant2(\"Johnny Markus\",12,\"ST12\",\"Maths\")\n",
    "print(ta2)\n",
    "print(ta2.subjects)\n",
    "print(ta2.pid)"
   ]
  },
  {
   "cell_type": "code",
   "execution_count": null,
   "id": "e1f55323-c24b-46fb-892f-34f347d6e03f",
   "metadata": {},
   "outputs": [],
   "source": []
  }
 ],
 "metadata": {
  "kernelspec": {
   "display_name": "Python 3 (ipykernel)",
   "language": "python",
   "name": "python3"
  },
  "language_info": {
   "codemirror_mode": {
    "name": "ipython",
    "version": 3
   },
   "file_extension": ".py",
   "mimetype": "text/x-python",
   "name": "python",
   "nbconvert_exporter": "python",
   "pygments_lexer": "ipython3",
   "version": "3.10.4"
  }
 },
 "nbformat": 4,
 "nbformat_minor": 5
}
