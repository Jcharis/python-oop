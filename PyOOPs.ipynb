{
 "cells": [
  {
   "cell_type": "markdown",
   "id": "ecef24a3-9d39-42f7-8094-e31a4b68057f",
   "metadata": {},
   "source": [
    "### Object Oriented Programming in Python\n",
    "+ Error Based Learning\n",
    "By Jesse E.Agbemabiase (JCharis)\n",
    "* Jesus Saves @JCharisTech"
   ]
  },
  {
   "cell_type": "markdown",
   "id": "d5309517-d858-49ed-94a9-86cb5dfd9a2d",
   "metadata": {},
   "source": [
    "#### Outline\n",
    "+ Ways to Create Objects\n",
    "+ OOP Principles\n",
    "    - Inheritance (Multiple Inheritance,Multi-Level,Supervised Inheritance)\n",
    "    - Encapsulation\n",
    "    - Polymorphism\n",
    "    - Abstraction\n",
    "    - Composition\n",
    "+ Gotchas"
   ]
  },
  {
   "cell_type": "markdown",
   "id": "d255c556-ddbb-4ecd-8cbf-7bbdf88ac7e7",
   "metadata": {},
   "source": [
    "#### Structure using UML\n",
    "+ Person(fname,lastname,age)\n",
    "+ Pupil(p..,16yrs,p1-p9)\n",
    "+ Student(p.17yrs,f1.4,major)\n",
    "+ Teacher(Full Time.Part time,visiting,TA)\n",
    "+ HeadMaster\n",
    "+ Counselor\n",
    "+ Manager (HR,\n",
    "+ Accountant\n",
    "+ "
   ]
  },
  {
   "cell_type": "markdown",
   "id": "591e0416-4e44-4413-b2e8-360a8fc06c34",
   "metadata": {},
   "source": [
    "#### Everything in python is a type and an object\n",
    "+ it is an object of the base class `type`\n",
    "\n",
    "##### What is an object and what is a class?\n",
    "+ A class is a blueprint (like a questionaire that you have to fill with data or information\n",
    "+ An instance is a copy of the class with actual values (your specific copy is an instance of the class; it contains actual information relevant to you)"
   ]
  },
  {
   "cell_type": "code",
   "execution_count": 2,
   "id": "efe261c2-5c38-4957-ae30-1b50e6feaedd",
   "metadata": {},
   "outputs": [
    {
     "name": "stdout",
     "output_type": "stream",
     "text": [
      "Type of a string <class 'str'>\n",
      "Type of an integer <class 'int'>\n",
      "Type of a list <class 'list'>\n",
      "Type of a tuple <class 'tuple'>\n"
     ]
    }
   ],
   "source": [
    "a = \"hello python\"\n",
    "b = 1\n",
    "c = [1,2,4]\n",
    "d = (1,3,5)\n",
    "print(\"Type of a string\",type(a))\n",
    "print(\"Type of an integer\",type(b))\n",
    "print(\"Type of a list\",type(c))\n",
    "print(\"Type of a tuple\",type(d))"
   ]
  },
  {
   "cell_type": "code",
   "execution_count": 3,
   "id": "a9e14311-a109-41b4-b126-7c1e7af04bde",
   "metadata": {},
   "outputs": [
    {
     "name": "stdout",
     "output_type": "stream",
     "text": [
      "<class 'type'>\n",
      "<class 'type'>\n",
      "<class 'type'>\n",
      "<class 'type'>\n",
      "<class 'type'>\n"
     ]
    }
   ],
   "source": [
    "print(type(str))\n",
    "print(type(int))\n",
    "print(type(list))\n",
    "print(type(tuple))\n",
    "print(type(object))"
   ]
  },
  {
   "cell_type": "code",
   "execution_count": 4,
   "id": "e089e017-7411-4d4a-a11b-05e7ab10ffe4",
   "metadata": {},
   "outputs": [
    {
     "data": {
      "text/plain": [
       "type"
      ]
     },
     "execution_count": 4,
     "metadata": {},
     "output_type": "execute_result"
    }
   ],
   "source": [
    "# what is the type of any class/object in python?ans type\n",
    "type(type(str))"
   ]
  },
  {
   "cell_type": "markdown",
   "id": "94d2adb9-2c67-463b-b912-b050b10a4045",
   "metadata": {},
   "source": [
    "##### Hence the hierarchy is \n",
    "object => class => type "
   ]
  },
  {
   "cell_type": "code",
   "execution_count": 5,
   "id": "5b5aa45c-80ef-4806-9c1c-790f1cad79f2",
   "metadata": {},
   "outputs": [
    {
     "name": "stdout",
     "output_type": "stream",
     "text": [
      "<class 'type'>\n"
     ]
    }
   ],
   "source": [
    "# the type of an object is a type\n",
    "print(type(object))"
   ]
  },
  {
   "cell_type": "markdown",
   "id": "1fc7fd86-a37c-4a98-823b-e04e6f676e65",
   "metadata": {},
   "source": [
    "#### Creating a Class in Python\n",
    "+ A Class is a blueprint or cookiecutter for creating an object\n",
    "+ An object is anything that has state(data coming from attributes of something) and behavior(methods)"
   ]
  },
  {
   "cell_type": "code",
   "execution_count": 6,
   "id": "73789935-69e1-4b35-9d7f-a63b9f8d614e",
   "metadata": {},
   "outputs": [],
   "source": [
    "# Method 1: Using the constructor approach\n",
    "# the __init__() initializes the arguments when the class is used to create an object\n",
    "class Person:\n",
    "    def __init__(self,first_name,last_name):\n",
    "        self.first_name = first_name\n",
    "        self.last_name = last_name\n"
   ]
  },
  {
   "cell_type": "code",
   "execution_count": 7,
   "id": "2ae29693-4bb6-4a98-85e4-6edd2f039be0",
   "metadata": {},
   "outputs": [
    {
     "name": "stdout",
     "output_type": "stream",
     "text": [
      "<__main__.Person object at 0x7f8848a52c80>\n",
      "Check the type <class '__main__.Person'>\n"
     ]
    }
   ],
   "source": [
    "p = Person(\"Jesse\",\"JCharis\")\n",
    "print(p)\n",
    "print(\"Check the type\",type(p))"
   ]
  },
  {
   "cell_type": "markdown",
   "id": "7b6f246f-f51f-407f-9869-4891b9b4745a",
   "metadata": {},
   "source": [
    "##### Narrative\n",
    "+ we have got the same results as the initial types (<class 'type'> === <class '__main__.Person'>)"
   ]
  },
  {
   "cell_type": "raw",
   "id": "69c00f4b-6653-4e21-a7e6-8f471f830d94",
   "metadata": {},
   "source": [
    "# Method 2: Using __new__()\n",
    "__new__() is intended mainly to allow subclasses of immutable types (like int, str, or tuple) \n",
    "to customize instance creation\n",
    "__new__ is static class method, while __init__ is instance method.\n",
    "__new__ has to create the instance first, so __init__ can initialize it. \n",
    "Note that __init__ takes self as parameter. Until you create instance there is no self.\n",
    "Use __new__ when you need to control the creation of a new instance.\n",
    "\n",
    "Use __init__ when you need to control initialization of a new instance.\n",
    "\n",
    "__new__ is the first step of instance creation. It's called first, and is responsible for returning a new instance of your class.\n",
    "\n",
    "In contrast, __init__ doesn't return anything; it's only responsible for initializing the instance after it's been created.\n",
    "\n",
    "In general, you shouldn't need to override __new__ unless you're subclassing an immutable type like str, int, unicode or tuple.\n",
    "https://stackoverflow.com/questions/674304/why-is-init-always-called-after-new\n"
   ]
  },
  {
   "cell_type": "code",
   "execution_count": 8,
   "id": "afa2ad91-5bf1-4367-96bd-f9c4695ce76f",
   "metadata": {},
   "outputs": [],
   "source": [
    "# Why __new__?: for creating a new instance\n",
    "# Why __init__?: for initializing a new instance\n",
    "class Person2:\n",
    "    def __new__(cls):\n",
    "        print(\"Creating instance\")\n",
    "  \n",
    "    # It is not called\n",
    "    def __init__(self):\n",
    "        print(\"Init is called\")"
   ]
  },
  {
   "cell_type": "code",
   "execution_count": 9,
   "id": "603c46e2-c260-4c57-ac50-d0b7df59b93c",
   "metadata": {},
   "outputs": [
    {
     "name": "stdout",
     "output_type": "stream",
     "text": [
      "Creating instance\n",
      "None\n"
     ]
    }
   ],
   "source": [
    "print(Person2())"
   ]
  },
  {
   "cell_type": "markdown",
   "id": "7a006020-225d-4bbc-836c-4c77368ad2a8",
   "metadata": {},
   "source": [
    "#### Narrative\n",
    "+ When you usee `__new__`, without Super(), the instance are created but not initialized"
   ]
  },
  {
   "cell_type": "code",
   "execution_count": 10,
   "id": "cbd9c4d8-0288-4737-b9c6-15065026ec60",
   "metadata": {},
   "outputs": [],
   "source": [
    "class Person2:\n",
    "    def __new__(cls):\n",
    "        print(\"Creating instance\")\n",
    "        return super(Person2, cls).__new__(cls)\n",
    "  \n",
    "    # It is called and hence an instance is initialized as you can see below\n",
    "    def __init__(self):\n",
    "        print(\"Init is called\")"
   ]
  },
  {
   "cell_type": "code",
   "execution_count": 11,
   "id": "56c79e9b-e9a5-497f-95d7-968b838d5c06",
   "metadata": {},
   "outputs": [
    {
     "name": "stdout",
     "output_type": "stream",
     "text": [
      "Creating instance\n",
      "Init is called\n",
      "<__main__.Person2 object at 0x7f8848a53850>\n"
     ]
    }
   ],
   "source": [
    "print(Person2())"
   ]
  },
  {
   "cell_type": "markdown",
   "id": "e2a37d09-679c-4d47-95f9-04824ac2359b",
   "metadata": {},
   "source": [
    "#### Components of a Class\n",
    "+ instance of an object = state + behavior\n",
    "+ object = attributes + methods\n",
    "* state: It is represented by the attributes of an object. It also reflects the properties of an object.\n",
    "* behavior: It is represented by the methods of an object. It also reflects the response of an object to other objects.\n"
   ]
  },
  {
   "cell_type": "code",
   "execution_count": 12,
   "id": "9db53c6f-3aa2-423e-bc89-ec4f398cdc97",
   "metadata": {},
   "outputs": [],
   "source": [
    "class Person:\n",
    "    def __init__(self,first_name,last_name,age):\n",
    "        self.first_name = first_name\n",
    "        self.last_name = last_name\n",
    "        self.age = age"
   ]
  },
  {
   "cell_type": "code",
   "execution_count": 13,
   "id": "98cf5c46-c609-407c-ad01-d9484546969f",
   "metadata": {},
   "outputs": [
    {
     "name": "stdout",
     "output_type": "stream",
     "text": [
      "<__main__.Person object at 0x7f8848a51a80>\n"
     ]
    }
   ],
   "source": [
    "##### Creating an Object\n",
    "p = Person(\"Jesse\",\"JCharis\",25)\n",
    "print(p)"
   ]
  },
  {
   "cell_type": "markdown",
   "id": "35eadf73-390e-46ac-8939-07ef0bd617e9",
   "metadata": {},
   "source": [
    "##### Narrative\n",
    "+ An object of Person class was created at 0x7f4808d5aec0 \n",
    "+ What does the 0x7f4808d5aec0 mean?\n",
    "  - It is a hexdecimal number\n",
    "  - That is the Memory address allocated for that object to identify(id) it hence when we\n",
    "    use id() on that object we must get the same value\n",
    "+ The id is assigned to the object when it is created.\n",
    "+ The id is the object's memory address, and will be different for each time you run the program. (except for some object that has a constant unique id, like integers from -5 to 256)"
   ]
  },
  {
   "cell_type": "code",
   "execution_count": 17,
   "id": "95668a73-b452-46ae-aba6-3ee98440a7fc",
   "metadata": {},
   "outputs": [
    {
     "data": {
      "text/plain": [
       "140223311059584"
      ]
     },
     "execution_count": 17,
     "metadata": {},
     "output_type": "execute_result"
    }
   ],
   "source": [
    "# Convert the hex to decimal\n",
    "# ast.literal_eval('0x7f4808d5aec0')\n",
    "int(0x7f8848a51a80)"
   ]
  },
  {
   "cell_type": "code",
   "execution_count": 15,
   "id": "7e7b366b-c66b-4963-95e4-2b2b4c60d1a0",
   "metadata": {},
   "outputs": [
    {
     "data": {
      "text/plain": [
       "140223311059584"
      ]
     },
     "execution_count": 15,
     "metadata": {},
     "output_type": "execute_result"
    }
   ],
   "source": [
    "# Get the memory address or identification of that object\n",
    "id(p)"
   ]
  },
  {
   "cell_type": "code",
   "execution_count": 16,
   "id": "73c36750-6eac-4a30-961e-592a659f2f23",
   "metadata": {},
   "outputs": [
    {
     "data": {
      "text/plain": [
       "'Jesse'"
      ]
     },
     "execution_count": 16,
     "metadata": {},
     "output_type": "execute_result"
    }
   ],
   "source": [
    "#### Getting the attributes\n",
    "#### the attributes stores data or state these are the variables\n",
    "p.first_name"
   ]
  },
  {
   "cell_type": "code",
   "execution_count": 18,
   "id": "9db093be-20e8-4d81-ae6f-366fac8b75c7",
   "metadata": {},
   "outputs": [
    {
     "data": {
      "text/plain": [
       "{'first_name': 'Jesse', 'last_name': 'JCharis', 'age': 25}"
      ]
     },
     "execution_count": 18,
     "metadata": {},
     "output_type": "execute_result"
    }
   ],
   "source": [
    "#### How to get all attributes or instance variables of an object created \n",
    "vars(p)"
   ]
  },
  {
   "cell_type": "code",
   "execution_count": 19,
   "id": "619450b2-b1a4-42a0-a83a-d7e8a1a34815",
   "metadata": {
    "collapsed": true,
    "jupyter": {
     "outputs_hidden": true
    },
    "tags": []
   },
   "outputs": [
    {
     "data": {
      "text/plain": [
       "['__class__',\n",
       " '__delattr__',\n",
       " '__dict__',\n",
       " '__dir__',\n",
       " '__doc__',\n",
       " '__eq__',\n",
       " '__format__',\n",
       " '__ge__',\n",
       " '__getattribute__',\n",
       " '__gt__',\n",
       " '__hash__',\n",
       " '__init__',\n",
       " '__init_subclass__',\n",
       " '__le__',\n",
       " '__lt__',\n",
       " '__module__',\n",
       " '__ne__',\n",
       " '__new__',\n",
       " '__reduce__',\n",
       " '__reduce_ex__',\n",
       " '__repr__',\n",
       " '__setattr__',\n",
       " '__sizeof__',\n",
       " '__str__',\n",
       " '__subclasshook__',\n",
       " '__weakref__',\n",
       " 'age',\n",
       " 'first_name',\n",
       " 'last_name']"
      ]
     },
     "execution_count": 19,
     "metadata": {},
     "output_type": "execute_result"
    }
   ],
   "source": [
    "#### How to get all attributes or instance variables of an object created \n",
    "dir(p)"
   ]
  },
  {
   "cell_type": "markdown",
   "id": "fc560f7a-9e93-444a-ada0-2491ab4fe4d9",
   "metadata": {},
   "source": [
    "#### Narrative: Difference between var() and dir()\n",
    "`vars()` Function: \n",
    "+ It displays the attribute of an instance in the form of a dictionary.\n",
    "+ Only works for object that implement __dict__ function\n",
    "\n",
    "`dir()` Function: \n",
    "+ It displays the instance attributes and the class attributes as well. \n",
    "+ It also displays the attributes of its ancestor classes.\n",
    "+ It is not limited to an instance.\n",
    "\n"
   ]
  },
  {
   "cell_type": "code",
   "execution_count": 20,
   "id": "0a6373f0-4205-4fd9-84ea-299de994ee7d",
   "metadata": {},
   "outputs": [
    {
     "data": {
      "text/plain": [
       "{'first_name': 'Jesse', 'last_name': 'JCharis', 'age': 25}"
      ]
     },
     "execution_count": 20,
     "metadata": {},
     "output_type": "execute_result"
    }
   ],
   "source": [
    "#### How to get all attributes or instance variables of an object created  var() == object.__dict__\n",
    "p.__dict__"
   ]
  },
  {
   "cell_type": "markdown",
   "id": "e71ea87a-37a0-4562-bd62-721091b14a27",
   "metadata": {},
   "source": [
    "#### User Experience(UX and UI) of Class \n",
    "+ Developer: `__repr__()`\n",
    "+ Regular User:`__str__()`"
   ]
  },
  {
   "cell_type": "code",
   "execution_count": 21,
   "id": "8f89ab10-1af2-4a41-8370-883fd016cc66",
   "metadata": {},
   "outputs": [],
   "source": [
    "class Person:\n",
    "    def __init__(self,first_name,last_name,age):\n",
    "        self.first_name = first_name\n",
    "        self.last_name = last_name\n",
    "        self.age = age\n",
    "        \n",
    "    def __repr__(self):\n",
    "        \"For Developers showing them how to create this class object\"\n",
    "        return f\"Person({self.first_name!r},{self.last_name},{self.age})\"\n",
    "    \n",
    "    def __str__(self):\n",
    "        \"For Regular Users showing them what they need to know and what is contains\"\n",
    "        return f\"Person(first_name={self.first_name},last_name={self.last_name},age={self.age})\""
   ]
  },
  {
   "cell_type": "code",
   "execution_count": 22,
   "id": "43cee655-c11f-4cd7-87ef-e5a00c0a1409",
   "metadata": {},
   "outputs": [
    {
     "name": "stdout",
     "output_type": "stream",
     "text": [
      "Person(first_name=Jesse,last_name=JCharis,age=25)\n"
     ]
    }
   ],
   "source": [
    "p = Person(\"Jesse\",\"JCharis\",25)\n",
    "print(p)"
   ]
  },
  {
   "cell_type": "code",
   "execution_count": 23,
   "id": "3e632aa0-ba33-4346-a9d4-6abb14e5c4d5",
   "metadata": {},
   "outputs": [
    {
     "data": {
      "text/plain": [
       "Person('Jesse',JCharis,25)"
      ]
     },
     "execution_count": 23,
     "metadata": {},
     "output_type": "execute_result"
    }
   ],
   "source": [
    "# For Developers\n",
    "# Notice the quotation marks on the first this is because of !r without it you will not see the quotation marks\n",
    "p"
   ]
  },
  {
   "cell_type": "markdown",
   "id": "5252e070-2604-4ebd-86a9-43df580f2ddd",
   "metadata": {},
   "source": [
    "#### Creating Methods For a Class\n",
    "+ A Method is a function for a class that controls the behavior of the object\n",
    "+ instance method: fxns that takes self as first param and controls the behavior of the object instance hence it can\n",
    "access the instance attributes or variables\n",
    "+ class method: fxn that takes cls as first param and have access to the class itself\n",
    "    - A class method can access or modify the class state while a static method can’t access or modify it.\n",
    "    - convention is to use `_from_`\n",
    "    - uses @classmethod\n",
    "+ static method: fxns that doesnt take either self or cls as first params and they are used as utility functions\n",
    "    - they can actually live outside the class but we keep them here\n",
    "    - uses @staticmethod\n",
    "    "
   ]
  },
  {
   "cell_type": "markdown",
   "id": "b4d02ba6-2391-49ba-a79f-74e15171ab7d",
   "metadata": {},
   "source": [
    "#### Instance Methods"
   ]
  },
  {
   "cell_type": "code",
   "execution_count": 24,
   "id": "8ad4cd78-034b-41a7-9f11-53b9f4339f99",
   "metadata": {
    "tags": []
   },
   "outputs": [],
   "source": [
    "# Instance Methods\n",
    "class Person:\n",
    "    def __init__(self,first_name,last_name,age):\n",
    "        self.first_name = first_name\n",
    "        self.last_name = last_name\n",
    "        self.age = age\n",
    "        \n",
    "    def __repr__(self):\n",
    "        \"For Developers showing them how to create this class object\"\n",
    "        return f\"Person({self.first_name!r},{self.last_name},{self.age})\"\n",
    "    \n",
    "    def __str__(self):\n",
    "        \"For Regular Users showing them what they need to know and what is contains\"\n",
    "        return f\"Person(first_name={self.first_name},last_name={self.last_name},age={self.age})\"\n",
    "    \n",
    "    def create_email(self):\n",
    "        return \"{}@gmail.com\".format(self.first_name)\n",
    "    \n",
    "    def create_pin(self):\n",
    "        return f\"{self.last_name}{self.age}\"\n",
    "        "
   ]
  },
  {
   "cell_type": "code",
   "execution_count": 25,
   "id": "f47f574c-9b11-499f-a4d9-85c09b50741b",
   "metadata": {},
   "outputs": [
    {
     "name": "stdout",
     "output_type": "stream",
     "text": [
      "Person(first_name=Mark,last_name=Twain,age=57)\n"
     ]
    }
   ],
   "source": [
    "p = Person(\"Mark\",\"Twain\",57)\n",
    "print(p)"
   ]
  },
  {
   "cell_type": "code",
   "execution_count": 26,
   "id": "f194b6c3-074a-4966-bc5f-7fe433e55b70",
   "metadata": {},
   "outputs": [
    {
     "data": {
      "text/plain": [
       "'Mark@gmail.com'"
      ]
     },
     "execution_count": 26,
     "metadata": {},
     "output_type": "execute_result"
    }
   ],
   "source": [
    "p.create_email()"
   ]
  },
  {
   "cell_type": "markdown",
   "id": "a41ef8c1-8eb5-4b0e-b688-20ee171e1942",
   "metadata": {},
   "source": [
    "#### Static Methods: utility fxns"
   ]
  },
  {
   "cell_type": "code",
   "execution_count": 27,
   "id": "aac3bb25-6d48-4296-b09f-2ddbf5b732a3",
   "metadata": {
    "tags": []
   },
   "outputs": [],
   "source": [
    "### Static Method\n",
    "class Person:\n",
    "    def __init__(self,first_name,last_name,age):\n",
    "        self.first_name = first_name\n",
    "        self.last_name = last_name\n",
    "        self.age = age\n",
    "        \n",
    "    def __repr__(self):\n",
    "        \"For Developers showing them how to create this class object\"\n",
    "        return f\"Person({self.first_name!r},{self.last_name},{self.age})\"\n",
    "    \n",
    "    def __str__(self):\n",
    "        \"For Regular Users showing them what they need to know and what is contains\"\n",
    "        return f\"Person(first_name={self.first_name},last_name={self.last_name},age={self.age})\"\n",
    "    \n",
    "    def create_email(self):\n",
    "        return \"{}@gmail.com\".format(self.first_name)\n",
    "    \n",
    "    def create_password(self,value):\n",
    "        return f\"{self.last_name}{self.age}{value}\"\n",
    "    \n",
    "    # utility fxn that we can use outside\n",
    "    @staticmethod\n",
    "    def get_age_group(value):\n",
    "        age = value\n",
    "        if age <= 12:\n",
    "            return 'child'\n",
    "        elif age >= 13 and age < 20:\n",
    "            return 'teenager'\n",
    "        elif age >= 20:\n",
    "            return 'adult'\n",
    "        else:\n",
    "            return \"None\" \n",
    "        "
   ]
  },
  {
   "cell_type": "code",
   "execution_count": 28,
   "id": "aafdedde-fc54-4a13-953e-91598b0ed857",
   "metadata": {},
   "outputs": [
    {
     "data": {
      "text/plain": [
       "'adult'"
      ]
     },
     "execution_count": 28,
     "metadata": {},
     "output_type": "execute_result"
    }
   ],
   "source": [
    "Person.get_age_group(43)"
   ]
  },
  {
   "cell_type": "markdown",
   "id": "68236aba-ecee-4a13-8646-97edb5e8a925",
   "metadata": {},
   "source": [
    "#### Class Methods"
   ]
  },
  {
   "cell_type": "code",
   "execution_count": 29,
   "id": "de7b1819-ce6f-4185-bc6e-db7bc48930b4",
   "metadata": {},
   "outputs": [],
   "source": [
    "### Static Method\n",
    "class Person:\n",
    "    def __init__(self,first_name,last_name,age):\n",
    "        self.first_name = first_name\n",
    "        self.last_name = last_name\n",
    "        self.age = age\n",
    "        \n",
    "    def __repr__(self):\n",
    "        \"For Developers showing them how to create this class object\"\n",
    "        return f\"Person({self.first_name!r},{self.last_name},{self.age})\"\n",
    "    \n",
    "    def __str__(self):\n",
    "        \"For Regular Users showing them what they need to know and what is contains\"\n",
    "        return f\"Person(first_name={self.first_name},last_name={self.last_name},age={self.age})\"\n",
    "    \n",
    "    def create_email(self):\n",
    "        return \"{}@gmail.com\".format(self.first_name)\n",
    "    \n",
    "    def create_password(self,value):\n",
    "        return f\"{self.last_name}{self.age}{value}\"\n",
    "    \n",
    "    # utility fxn that we can use outside\n",
    "    @staticmethod\n",
    "    def get_age_group(value):\n",
    "        age = value\n",
    "        if age <= 12:\n",
    "            return 'child'\n",
    "        elif age >= 13 and age < 20:\n",
    "            return 'teenager'\n",
    "        elif age >= 20:\n",
    "            return 'adult'\n",
    "        else:\n",
    "            return \"None\" \n",
    "    \n",
    "    # Fxns to create the birthday and age\n",
    "    @classmethod\n",
    "    def from_Birth_Year(cls,first_name,last_name, year):\n",
    "        from datetime import date\n",
    "        return cls(first_name,last_name,date.today().year - year)\n",
    "    \n",
    "    @classmethod\n",
    "    def to_Birth_Year(cls,first_name,last_name, age):\n",
    "        from datetime import date\n",
    "        return cls(first_name,last_name,date.today().year - age)\n",
    "        \n",
    "        "
   ]
  },
  {
   "cell_type": "code",
   "execution_count": 30,
   "id": "946cb8af-ab9c-435b-a3ad-d5684572db8f",
   "metadata": {},
   "outputs": [
    {
     "data": {
      "text/plain": [
       "Person('Jesse',J,1997)"
      ]
     },
     "execution_count": 30,
     "metadata": {},
     "output_type": "execute_result"
    }
   ],
   "source": [
    "Person.to_Birth_Year(\"Jesse\",\"J\",25)"
   ]
  },
  {
   "cell_type": "code",
   "execution_count": 31,
   "id": "0ff69e24-8940-40c9-939e-0dab5dc09448",
   "metadata": {},
   "outputs": [
    {
     "data": {
      "text/plain": [
       "Person('Jesse',J,22)"
      ]
     },
     "execution_count": 31,
     "metadata": {},
     "output_type": "execute_result"
    }
   ],
   "source": [
    "Person.from_Birth_Year(\"Jesse\",\"J\",2000)"
   ]
  },
  {
   "cell_type": "code",
   "execution_count": 32,
   "id": "0d35c18c-d9a8-4d97-b920-314975c7ed59",
   "metadata": {},
   "outputs": [
    {
     "data": {
      "text/plain": [
       "<bound method Person.create_email of Person('Mark',Twain,57)>"
      ]
     },
     "execution_count": 32,
     "metadata": {},
     "output_type": "execute_result"
    }
   ],
   "source": [
    "# Bound method  occurs when you omit the () the fxn call\n",
    "# What does this tells us?: it appears that we are accessing it like an attributes\n",
    "# every method can be made to behave like an attribute via properties\n",
    "p.create_email"
   ]
  },
  {
   "cell_type": "markdown",
   "id": "adbcf579-f94d-4ca5-8d95-6deae5db2335",
   "metadata": {},
   "source": [
    "### OOP Principles\n",
    "+ Encapsulation\n",
    "+ Inheritance\n",
    "+ Polymorphism\n",
    "+ Abstraction\n",
    "+ Aggregation\n",
    "+ Composition\n",
    "+ Association"
   ]
  },
  {
   "cell_type": "markdown",
   "id": "8dcbc7cb-ceed-4ab0-9272-e5210fd8a3eb",
   "metadata": {},
   "source": [
    "### Inheritance\n",
    "+ It allows a class to inherit or acquire all the features(methods,attributes) of its parents class\n",
    "* Inheritance models what is called an is a relationship\n",
    "\n",
    "\n",
    "\n",
    "#### Goals\n",
    "+ Code reuse\n",
    "+ Code readability\n",
    "+ DRY"
   ]
  },
  {
   "cell_type": "code",
   "execution_count": 33,
   "id": "0f63baa8-562b-49e9-8291-05ea69e168dc",
   "metadata": {
    "tags": []
   },
   "outputs": [],
   "source": [
    "### Static Method\n",
    "class Person:\n",
    "    def __init__(self,first_name,last_name,age):\n",
    "        self.first_name = first_name\n",
    "        self.last_name = last_name\n",
    "        self.age = age\n",
    "        \n",
    "    def __repr__(self):\n",
    "        \"For Developers showing them how to create this class object\"\n",
    "        return f\"Person({self.first_name!r},{self.last_name},{self.age})\"\n",
    "    \n",
    "    def __str__(self):\n",
    "        \"For Regular Users showing them what they need to know and what is contains\"\n",
    "        return f\"Person(first_name={self.first_name},last_name={self.last_name},age={self.age})\"\n",
    "    \n",
    "    def create_email(self):\n",
    "        return \"{}@gmail.com\".format(self.first_name)\n",
    "    \n",
    "    def create_password(self,value):\n",
    "        return f\"{self.last_name}{self.age}{value}\"\n",
    "    \n",
    "    # utility fxn that we can use outside\n",
    "    @staticmethod\n",
    "    def get_age_group(value):\n",
    "        age = value\n",
    "        if age <= 12:\n",
    "            return 'child'\n",
    "        elif age >= 13 and age < 20:\n",
    "            return 'teenager'\n",
    "        elif age >= 20:\n",
    "            return 'adult'\n",
    "        else:\n",
    "            return \"None\" \n",
    "    \n",
    "    # Fxns to create the birthday and age\n",
    "    @classmethod\n",
    "    def from_Birth_Year(cls,first_name,last_name, year):\n",
    "        from datetime import date\n",
    "        return cls(first_name,last_name,date.today().year - year)\n",
    "    \n",
    "    @classmethod\n",
    "    def to_Birth_Year(cls,first_name,last_name, age):\n",
    "        from datetime import date\n",
    "        return cls(first_name,last_name,date.today().year - age)\n",
    "        \n",
    "# Full Inheritance\n",
    "class Pupil(Person):\n",
    "    pass\n",
    "\n",
    "# Inheritance that overide\n",
    "# Will override the attributes of the Parent Class when initialize\n",
    "class Student(Person):\n",
    "    def __init__(self,first_name):\n",
    "        self.first_name = first_name\n",
    "        \n",
    "        \n",
    "# Inheritance that extends\n",
    "class Graduate(Person):\n",
    "    def __init__(self,first_name,last_name,age,year_of_study,specialization):\n",
    "        self.year_of_study = year_of_study\n",
    "        self.specialization = specialization\n",
    "    \n",
    "    def type_of_student(self):\n",
    "        print(f\"{year_of_study}{specialization} student\")\n",
    "        "
   ]
  },
  {
   "cell_type": "code",
   "execution_count": 34,
   "id": "fb7d038c-1ccd-44e9-9071-56141411200a",
   "metadata": {},
   "outputs": [
    {
     "name": "stdout",
     "output_type": "stream",
     "text": [
      "Person(first_name=Peter,last_name=Pan,age=12)\n"
     ]
    }
   ],
   "source": [
    "# Check Full Inheritance\n",
    "pu = Pupil(\"Peter\",\"Pan\",12)\n",
    "print(pu)"
   ]
  },
  {
   "cell_type": "markdown",
   "id": "4dd456f5-a303-4904-b73d-f89d04b6c3bc",
   "metadata": {},
   "source": [
    "#### Narrative\n",
    "+ Notice the repr produce the same form as the base class\n",
    "+ How do we fix that"
   ]
  },
  {
   "cell_type": "code",
   "execution_count": 38,
   "id": "5f6e38c9-35a1-4f53-b252-0007ed1cd125",
   "metadata": {
    "tags": []
   },
   "outputs": [],
   "source": [
    "### Inheritance\n",
    "class Person:\n",
    "    def __init__(self,first_name,last_name,age):\n",
    "        self.first_name = first_name\n",
    "        self.last_name = last_name\n",
    "        self.age = age\n",
    "        \n",
    "    def __repr__(self):\n",
    "        \"For Developers showing them how to create this class object\"\n",
    "        return f\"{self.__class__.__name__}({self.first_name!r},{self.last_name},{self.age})\" \n",
    "        # avoid bad naming when there are subclass hence it will use the current instance class name\n",
    "    \n",
    "    def __str__(self):\n",
    "        \"For Regular Users showing them what they need to know and what is contains\"\n",
    "        return f\"{self.__class__.__name__}(first_name={self.first_name},last_name={self.last_name},age={self.age})\"\n",
    "    \n",
    "    def create_email(self):\n",
    "        return \"{}@gmail.com\".format(self.first_name)\n",
    "    \n",
    "    def create_password(self,value):\n",
    "        return f\"{self.last_name}{self.age}{value}\"\n",
    "    \n",
    "    # utility fxn that we can use outside\n",
    "    @staticmethod\n",
    "    def get_age_group(value):\n",
    "        age = value\n",
    "        if age <= 12:\n",
    "            return 'child'\n",
    "        elif age >= 13 and age < 20:\n",
    "            return 'teenager'\n",
    "        elif age >= 20:\n",
    "            return 'adult'\n",
    "        else:\n",
    "            return \"None\" \n",
    "    \n",
    "    # Fxns to create the birthday and age\n",
    "    @classmethod\n",
    "    def from_Birth_Year(cls,first_name,last_name, year):\n",
    "        from datetime import date\n",
    "        return cls(first_name,last_name,date.today().year - year)\n",
    "    \n",
    "    @classmethod\n",
    "    def to_Birth_Year(cls,first_name,last_name, age):\n",
    "        from datetime import date\n",
    "        return cls(first_name,last_name,date.today().year - age)\n",
    "        \n",
    "# Full Inheritance\n",
    "class Pupil(Person):\n",
    "    pass\n",
    "\n",
    "# Inheritance that overide\n",
    "class Student(Person):\n",
    "    def __init__(self,first_name):\n",
    "        self.first_name = first_name\n",
    "        \n",
    "        \n",
    "# Inheritance that extends\n",
    "class Graduate(Person):\n",
    "    def __init__(self,first_name,last_name,age,year_of_study,specialization):\n",
    "        self.year_of_study = year_of_study\n",
    "        self.specialization = specialization\n",
    "    \n",
    "    def type_of_student(self):\n",
    "        print(f\"{year_of_study}{specialization} student\")\n",
    "        "
   ]
  },
  {
   "cell_type": "code",
   "execution_count": 39,
   "id": "319b9d8b-9e0b-4cd9-8476-fc475906424c",
   "metadata": {},
   "outputs": [
    {
     "name": "stdout",
     "output_type": "stream",
     "text": [
      "Pupil(first_name=Peter,last_name=Pan,age=12)\n"
     ]
    }
   ],
   "source": [
    "# Check Full Inheritance\n",
    "pu = Pupil(\"Peter\",\"Pan\",12)\n",
    "print(pu)"
   ]
  },
  {
   "cell_type": "code",
   "execution_count": 40,
   "id": "d3a3fbb3-9eaa-48b0-a7d3-42f73fd0eda7",
   "metadata": {},
   "outputs": [],
   "source": [
    "# Check Overiding\n",
    "s = Student(\"Peter\")\n"
   ]
  },
  {
   "cell_type": "code",
   "execution_count": 41,
   "id": "a5740c84-f57f-4d28-abf5-50fa3f75a734",
   "metadata": {},
   "outputs": [
    {
     "ename": "AttributeError",
     "evalue": "'Student' object has no attribute 'last_name'",
     "output_type": "error",
     "traceback": [
      "\u001b[0;31m---------------------------------------------------------------------------\u001b[0m",
      "\u001b[0;31mAttributeError\u001b[0m                            Traceback (most recent call last)",
      "Input \u001b[0;32mIn [41]\u001b[0m, in \u001b[0;36m<cell line: 1>\u001b[0;34m()\u001b[0m\n\u001b[0;32m----> 1\u001b[0m \u001b[38;5;28;43mprint\u001b[39;49m\u001b[43m(\u001b[49m\u001b[43ms\u001b[49m\u001b[43m)\u001b[49m\n",
      "Input \u001b[0;32mIn [38]\u001b[0m, in \u001b[0;36mPerson.__str__\u001b[0;34m(self)\u001b[0m\n\u001b[1;32m     13\u001b[0m \u001b[38;5;28;01mdef\u001b[39;00m \u001b[38;5;21m__str__\u001b[39m(\u001b[38;5;28mself\u001b[39m):\n\u001b[1;32m     14\u001b[0m     \u001b[38;5;124m\"\u001b[39m\u001b[38;5;124mFor Regular Users showing them what they need to know and what is contains\u001b[39m\u001b[38;5;124m\"\u001b[39m\n\u001b[0;32m---> 15\u001b[0m     \u001b[38;5;28;01mreturn\u001b[39;00m \u001b[38;5;124mf\u001b[39m\u001b[38;5;124m\"\u001b[39m\u001b[38;5;132;01m{\u001b[39;00m\u001b[38;5;28mself\u001b[39m\u001b[38;5;241m.\u001b[39m\u001b[38;5;18m__class__\u001b[39m\u001b[38;5;241m.\u001b[39m\u001b[38;5;18m__name__\u001b[39m\u001b[38;5;132;01m}\u001b[39;00m\u001b[38;5;124m(first_name=\u001b[39m\u001b[38;5;132;01m{\u001b[39;00m\u001b[38;5;28mself\u001b[39m\u001b[38;5;241m.\u001b[39mfirst_name\u001b[38;5;132;01m}\u001b[39;00m\u001b[38;5;124m,last_name=\u001b[39m\u001b[38;5;132;01m{\u001b[39;00m\u001b[38;5;28mself\u001b[39m\u001b[38;5;241m.\u001b[39mlast_name\u001b[38;5;132;01m}\u001b[39;00m\u001b[38;5;124m,age=\u001b[39m\u001b[38;5;132;01m{\u001b[39;00m\u001b[38;5;28mself\u001b[39m\u001b[38;5;241m.\u001b[39mage\u001b[38;5;132;01m}\u001b[39;00m\u001b[38;5;124m)\u001b[39m\u001b[38;5;124m\"\u001b[39m\n",
      "\u001b[0;31mAttributeError\u001b[0m: 'Student' object has no attribute 'last_name'"
     ]
    }
   ],
   "source": [
    "print(s)"
   ]
  },
  {
   "cell_type": "markdown",
   "id": "9c29c2da-926a-4fc7-84d3-b4f90a346846",
   "metadata": {},
   "source": [
    "#### Narrtive\n",
    "+ Why the AttributeError?\n",
    "Because it is inheriting from the Parent class that has the last name hence we have to overide those methods too"
   ]
  },
  {
   "cell_type": "code",
   "execution_count": 42,
   "id": "a0720b20-7e77-430f-beae-be12bab042d0",
   "metadata": {},
   "outputs": [],
   "source": [
    "# Inheritance that overide\n",
    "class Student(Person):\n",
    "    def __init__(self,first_name):\n",
    "        self.first_name = first_name\n",
    "        \n",
    "    def __repr__(self):\n",
    "        \"For Developers showing them how to create this class object\"\n",
    "        return f\"{self.__class__.__name__}({self.first_name!r})\"\n",
    "    \n",
    "    def __str__(self):\n",
    "        \"For Regular Users showing them what they need to know and what is contains\"\n",
    "        return f\"{self.__class__.__name__}(first_name={self.first_name})\""
   ]
  },
  {
   "cell_type": "code",
   "execution_count": 44,
   "id": "b1205090-eb94-4f57-b336-f8d20ffc1745",
   "metadata": {},
   "outputs": [
    {
     "name": "stdout",
     "output_type": "stream",
     "text": [
      "Student(first_name=Peter)\n"
     ]
    }
   ],
   "source": [
    "# Check Overiding of all\n",
    "s = Student(\"Peter\")\n",
    "print(s)"
   ]
  },
  {
   "cell_type": "markdown",
   "id": "801cc021-7506-4149-842b-ea1a56397613",
   "metadata": {
    "jupyter": {
     "outputs_hidden": true
    },
    "tags": []
   },
   "source": [
    "#### How do we get all the parents attributes as well as the child attributes according?\n",
    "+ use of super()\n",
    "+ Using super() allows it to inherit all the attributes of the parent class Person and initialize them too \n",
    "+ Without assigning it below it will use the attributes from the Parent class assigned above"
   ]
  },
  {
   "cell_type": "code",
   "execution_count": 45,
   "id": "6904ee70-dd48-4f98-8653-65b6802ce050",
   "metadata": {},
   "outputs": [],
   "source": [
    "# Inheritance and the super()\n",
    "class Student(Person):\n",
    "    def __init__(self, first_name, student_id) -> None:\n",
    "        super().__init__() # leave it empty will produce an error\n",
    "        self.student_id = student_id #access the new extended attrib\n",
    "        \n",
    "    def __repr__(self):\n",
    "        \"For Developers showing them how to create this class object\"\n",
    "        return f\"{self.__class__.__name__}({self.first_name!r})\"\n",
    "    \n",
    "    def __str__(self):\n",
    "        \"For Regular Users showing them what they need to know and what is contains\"\n",
    "        return f\"{self.__class__.__name__}(first_name={self.first_name})\""
   ]
  },
  {
   "cell_type": "code",
   "execution_count": 47,
   "id": "791d1727-5bf7-4610-ad47-484d0ec4ce95",
   "metadata": {
    "tags": []
   },
   "outputs": [
    {
     "ename": "TypeError",
     "evalue": "Person.__init__() missing 3 required positional arguments: 'first_name', 'last_name', and 'age'",
     "output_type": "error",
     "traceback": [
      "\u001b[0;31m---------------------------------------------------------------------------\u001b[0m",
      "\u001b[0;31mTypeError\u001b[0m                                 Traceback (most recent call last)",
      "Input \u001b[0;32mIn [47]\u001b[0m, in \u001b[0;36m<cell line: 2>\u001b[0;34m()\u001b[0m\n\u001b[1;32m      1\u001b[0m \u001b[38;5;66;03m# Check Overiding of al\u001b[39;00m\n\u001b[0;32m----> 2\u001b[0m s \u001b[38;5;241m=\u001b[39m \u001b[43mStudent\u001b[49m\u001b[43m(\u001b[49m\u001b[38;5;124;43m\"\u001b[39;49m\u001b[38;5;124;43mPeter\u001b[39;49m\u001b[38;5;124;43m\"\u001b[39;49m\u001b[43m,\u001b[49m\u001b[38;5;241;43m1\u001b[39;49m\u001b[43m)\u001b[49m\n\u001b[1;32m      3\u001b[0m \u001b[38;5;28mprint\u001b[39m(s)\n\u001b[1;32m      4\u001b[0m \u001b[38;5;28mprint\u001b[39m(s\u001b[38;5;241m.\u001b[39mcreate_email())\n",
      "Input \u001b[0;32mIn [45]\u001b[0m, in \u001b[0;36mStudent.__init__\u001b[0;34m(self, first_name, student_id)\u001b[0m\n\u001b[1;32m      3\u001b[0m \u001b[38;5;28;01mdef\u001b[39;00m \u001b[38;5;21m__init__\u001b[39m(\u001b[38;5;28mself\u001b[39m, first_name, student_id) \u001b[38;5;241m-\u001b[39m\u001b[38;5;241m>\u001b[39m \u001b[38;5;28;01mNone\u001b[39;00m:\n\u001b[0;32m----> 4\u001b[0m     \u001b[38;5;28;43msuper\u001b[39;49m\u001b[43m(\u001b[49m\u001b[43m)\u001b[49m\u001b[38;5;241;43m.\u001b[39;49m\u001b[38;5;21;43m__init__\u001b[39;49m\u001b[43m(\u001b[49m\u001b[43m)\u001b[49m \u001b[38;5;66;03m# leave it empty will produce an error\u001b[39;00m\n\u001b[1;32m      5\u001b[0m     \u001b[38;5;28mself\u001b[39m\u001b[38;5;241m.\u001b[39mstudent_id \u001b[38;5;241m=\u001b[39m student_id\n",
      "\u001b[0;31mTypeError\u001b[0m: Person.__init__() missing 3 required positional arguments: 'first_name', 'last_name', and 'age'"
     ]
    }
   ],
   "source": [
    "# Check Overiding of all\n",
    "s = Student(\"Peter\",1)\n",
    "print(s)\n",
    "print(s.create_email())"
   ]
  },
  {
   "cell_type": "code",
   "execution_count": 48,
   "id": "e6160ac1-115f-4259-b744-c84b6de58446",
   "metadata": {},
   "outputs": [],
   "source": [
    "# Inheritance and the super()\n",
    "class Student(Person):\n",
    "    def __init__(self, first_name, student_id) -> None:\n",
    "        super().__init__(first_name,last_name,age) # place in here the attributes of the parent class this will initialize them also\n",
    "        self.student_id = student_id\n",
    "        \n",
    "    def __repr__(self):\n",
    "        \"For Developers showing them how to create this class object\"\n",
    "        return f\"{self.__class__.__name__}({self.first_name!r})\"\n",
    "    \n",
    "    def __str__(self):\n",
    "        \"For Regular Users showing them what they need to know and what is contains\"\n",
    "        return f\"{self.__class__.__name__}(first_name={self.first_name})\""
   ]
  },
  {
   "cell_type": "code",
   "execution_count": 49,
   "id": "643a08f0-03a4-4691-bc8c-ae18f09b764f",
   "metadata": {
    "tags": []
   },
   "outputs": [
    {
     "ename": "NameError",
     "evalue": "name 'last_name' is not defined",
     "output_type": "error",
     "traceback": [
      "\u001b[0;31m---------------------------------------------------------------------------\u001b[0m",
      "\u001b[0;31mNameError\u001b[0m                                 Traceback (most recent call last)",
      "Input \u001b[0;32mIn [49]\u001b[0m, in \u001b[0;36m<cell line: 2>\u001b[0;34m()\u001b[0m\n\u001b[1;32m      1\u001b[0m \u001b[38;5;66;03m# Check Overiding of al\u001b[39;00m\n\u001b[0;32m----> 2\u001b[0m s \u001b[38;5;241m=\u001b[39m \u001b[43mStudent\u001b[49m\u001b[43m(\u001b[49m\u001b[38;5;124;43m\"\u001b[39;49m\u001b[38;5;124;43mPeter\u001b[39;49m\u001b[38;5;124;43m\"\u001b[39;49m\u001b[43m,\u001b[49m\u001b[38;5;241;43m1\u001b[39;49m\u001b[43m)\u001b[49m\n\u001b[1;32m      3\u001b[0m \u001b[38;5;28mprint\u001b[39m(s)\n",
      "Input \u001b[0;32mIn [48]\u001b[0m, in \u001b[0;36mStudent.__init__\u001b[0;34m(self, first_name, student_id)\u001b[0m\n\u001b[1;32m      3\u001b[0m \u001b[38;5;28;01mdef\u001b[39;00m \u001b[38;5;21m__init__\u001b[39m(\u001b[38;5;28mself\u001b[39m, first_name, student_id) \u001b[38;5;241m-\u001b[39m\u001b[38;5;241m>\u001b[39m \u001b[38;5;28;01mNone\u001b[39;00m:\n\u001b[0;32m----> 4\u001b[0m     \u001b[38;5;28msuper\u001b[39m()\u001b[38;5;241m.\u001b[39m\u001b[38;5;21m__init__\u001b[39m(first_name,\u001b[43mlast_name\u001b[49m,age) \u001b[38;5;66;03m# place in here the attributes of the parent class this will initialize them also\u001b[39;00m\n\u001b[1;32m      5\u001b[0m     \u001b[38;5;28mself\u001b[39m\u001b[38;5;241m.\u001b[39mstudent_id \u001b[38;5;241m=\u001b[39m student_id\n",
      "\u001b[0;31mNameError\u001b[0m: name 'last_name' is not defined"
     ]
    }
   ],
   "source": [
    "# Check Overiding of al\n",
    "s = Student(\"Peter\",1)\n",
    "print(s)\n"
   ]
  },
  {
   "cell_type": "code",
   "execution_count": 50,
   "id": "5a968991-160b-418f-957b-17918d77dd91",
   "metadata": {},
   "outputs": [],
   "source": [
    "# Inheritance and the super()\n",
    "# fix by using none\n",
    "class Student(Person):\n",
    "    def __init__(self, first_name, student_id) -> None:\n",
    "        super().__init__(first_name,last_name=None,age=None) # place in here the attributes of the parent class this will initialize them also\n",
    "        self.student_id = student_id\n",
    "      \n",
    "        \n",
    "    def __repr__(self):\n",
    "        \"For Developers showing them how to create this class object\"\n",
    "        return f\"{self.__class__.__name__}({self.first_name!r})\"\n",
    "    \n",
    "    def __str__(self):\n",
    "        \"For Regular Users showing them what they need to know and what is contains\"\n",
    "        return f\"{self.__class__.__name__}(first_name={self.first_name})\""
   ]
  },
  {
   "cell_type": "code",
   "execution_count": 51,
   "id": "fb419ce9-c1d1-49cf-b514-89d647659d2e",
   "metadata": {},
   "outputs": [
    {
     "name": "stdout",
     "output_type": "stream",
     "text": [
      "Student(first_name=Peter)\n"
     ]
    }
   ],
   "source": [
    "# Check Inheritance\n",
    "s = Student(\"Peter\",1)\n",
    "print(s)\n"
   ]
  },
  {
   "cell_type": "code",
   "execution_count": 52,
   "id": "ce1289a5-d30a-42ab-9761-2cb230ca7999",
   "metadata": {},
   "outputs": [
    {
     "name": "stdout",
     "output_type": "stream",
     "text": [
      "None\n"
     ]
    }
   ],
   "source": [
    "print(s.last_name)"
   ]
  },
  {
   "cell_type": "code",
   "execution_count": 53,
   "id": "c77bc60f-75a2-4cd4-a6db-bf7a887d5971",
   "metadata": {},
   "outputs": [
    {
     "data": {
      "text/plain": [
       "'Peter@gmail.com'"
      ]
     },
     "execution_count": 53,
     "metadata": {},
     "output_type": "execute_result"
    }
   ],
   "source": [
    "# Inherit all the methods too\n",
    "s.create_email()"
   ]
  },
  {
   "cell_type": "markdown",
   "id": "b6c1de3f-d8b1-424e-8f24-b6ba100e8cb2",
   "metadata": {},
   "source": [
    "##### How to check if a class is subclass of another?\n",
    "Python provides a function issubclass() that directly tells us if a class is subclass of another class."
   ]
  },
  {
   "cell_type": "code",
   "execution_count": 54,
   "id": "44a1c4c1-de8e-4d89-a6f6-f2f1392b88ae",
   "metadata": {},
   "outputs": [
    {
     "data": {
      "text/plain": [
       "True"
      ]
     },
     "execution_count": 54,
     "metadata": {},
     "output_type": "execute_result"
    }
   ],
   "source": [
    "issubclass(Student,Person)"
   ]
  },
  {
   "cell_type": "code",
   "execution_count": null,
   "id": "f2252ee2-fff4-4835-ae54-b08eafd3da9d",
   "metadata": {},
   "outputs": [],
   "source": [
    "### Multiple Inheritance\n"
   ]
  },
  {
   "cell_type": "code",
   "execution_count": 115,
   "id": "4b131879-669f-490b-8fd4-e468f31cd780",
   "metadata": {},
   "outputs": [],
   "source": [
    "class Person:\n",
    "    def __init__(self,first_name=None,last_name=None,age=None):\n",
    "        self.first_name = first_name\n",
    "        self.last_name = last_name\n",
    "        self.age = age\n",
    "        \n",
    "    def __repr__(self):\n",
    "        \"For Developers showing them how to create this class object\"\n",
    "        return f\"{self.__class__.__name__}({self.first_name!r},{self.last_name},{self.age})\" \n",
    "        # avoid bad naming when there are subclass hence it will use the current instance class name\n",
    "    \n",
    "    def __str__(self):\n",
    "        \"For Regular Users showing them what they need to know and what is contains\"\n",
    "        return f\"{self.__class__.__name__}(first_name={self.first_name},last_name={self.last_name},age={self.age})\"\n",
    "    \n",
    "    def create_email(self):\n",
    "        return \"{}@gmail.com\".format(self.first_name)\n",
    "    \n",
    "    def create_password(self,value):\n",
    "        return f\"{self.last_name}{self.age}{value}\"\n",
    "    \n",
    "    # utility fxn that we can use outside\n",
    "    @staticmethod\n",
    "    def get_age_group(value):\n",
    "        age = value\n",
    "        if age <= 12:\n",
    "            return 'child'\n",
    "        elif age >= 13 and age < 20:\n",
    "            return 'teenager'\n",
    "        elif age >= 20:\n",
    "            return 'adult'\n",
    "        else:\n",
    "            return \"None\" \n",
    "    \n",
    "    # Fxns to create the birthday and age\n",
    "    @classmethod\n",
    "    def from_Birth_Year(cls,first_name,last_name, year):\n",
    "        from datetime import date\n",
    "        return cls(first_name,last_name,date.today().year - year)\n",
    "    \n",
    "    @classmethod\n",
    "    def to_Birth_Year(cls,first_name,last_name, age):\n",
    "        from datetime import date\n",
    "        return cls(first_name,last_name,date.today().year - age)\n",
    "\n",
    "class Student(Person):\n",
    "    def __init__(self, first_name, student_id) -> None:\n",
    "        super().__init__(first_name) # place in here the attributes of the parent class this will initialize them also\n",
    "        self.student_id = student_id\n",
    "      \n",
    "        \n",
    "    def __repr__(self):\n",
    "        \"For Developers showing them how to create this class object\"\n",
    "        return f\"{self.__class__.__name__}({self.first_name!r})\"\n",
    "    \n",
    "    def __str__(self):\n",
    "        \"For Regular Users showing them what they need to know and what is contains\"\n",
    "        return f\"{self.__class__.__name__}(first_name={self.first_name})\"\n",
    "\n",
    "class Teacher(Person):\n",
    "    def __init__(self,first_name,subject,department):\n",
    "        super().__init__(first_name)\n",
    "        self.subject = subject\n",
    "        self.department = department\n",
    "        \n",
    "\n",
    "class TeachingAssistant(Student,Teacher):\n",
    "    pass"
   ]
  },
  {
   "cell_type": "code",
   "execution_count": 116,
   "id": "8f88670b-3292-406c-861f-ee579c2d04de",
   "metadata": {
    "tags": []
   },
   "outputs": [
    {
     "ename": "TypeError",
     "evalue": "Student.__init__() takes 3 positional arguments but 4 were given",
     "output_type": "error",
     "traceback": [
      "\u001b[0;31m---------------------------------------------------------------------------\u001b[0m",
      "\u001b[0;31mTypeError\u001b[0m                                 Traceback (most recent call last)",
      "Input \u001b[0;32mIn [116]\u001b[0m, in \u001b[0;36m<cell line: 1>\u001b[0;34m()\u001b[0m\n\u001b[0;32m----> 1\u001b[0m ta \u001b[38;5;241m=\u001b[39m \u001b[43mTeachingAssistant\u001b[49m\u001b[43m(\u001b[49m\u001b[38;5;124;43m\"\u001b[39;49m\u001b[38;5;124;43mJohn\u001b[39;49m\u001b[38;5;124;43m\"\u001b[39;49m\u001b[43m,\u001b[49m\u001b[38;5;124;43m\"\u001b[39;49m\u001b[38;5;124;43mMaths\u001b[39;49m\u001b[38;5;124;43m\"\u001b[39;49m\u001b[43m,\u001b[49m\u001b[38;5;241;43m12\u001b[39;49m\u001b[43m)\u001b[49m\n",
      "\u001b[0;31mTypeError\u001b[0m: Student.__init__() takes 3 positional arguments but 4 were given"
     ]
    }
   ],
   "source": [
    "ta = TeachingAssistant(\"John\",\"Maths\",12)"
   ]
  },
  {
   "cell_type": "code",
   "execution_count": 117,
   "id": "13860927-d98b-4772-8cdd-d10fb272b663",
   "metadata": {},
   "outputs": [
    {
     "data": {
      "text/plain": [
       "(__main__.TeachingAssistant,\n",
       " __main__.Student,\n",
       " __main__.Teacher,\n",
       " __main__.Person,\n",
       " object)"
      ]
     },
     "execution_count": 117,
     "metadata": {},
     "output_type": "execute_result"
    }
   ],
   "source": [
    "TeachingAssistant.__mro__"
   ]
  },
  {
   "cell_type": "code",
   "execution_count": 118,
   "id": "1a910935-fad9-43b6-beb8-433c1a07da88",
   "metadata": {},
   "outputs": [
    {
     "ename": "TypeError",
     "evalue": "Student.__init__() missing 1 required positional argument: 'student_id'",
     "output_type": "error",
     "traceback": [
      "\u001b[0;31m---------------------------------------------------------------------------\u001b[0m",
      "\u001b[0;31mTypeError\u001b[0m                                 Traceback (most recent call last)",
      "Input \u001b[0;32mIn [118]\u001b[0m, in \u001b[0;36m<cell line: 4>\u001b[0;34m()\u001b[0m\n\u001b[1;32m      2\u001b[0m \u001b[38;5;28;01mclass\u001b[39;00m \u001b[38;5;21;01mTeachingAssistant\u001b[39;00m(Teacher,Student):\n\u001b[1;32m      3\u001b[0m     \u001b[38;5;28;01mpass\u001b[39;00m\n\u001b[0;32m----> 4\u001b[0m ta \u001b[38;5;241m=\u001b[39m \u001b[43mTeachingAssistant\u001b[49m\u001b[43m(\u001b[49m\u001b[38;5;124;43m\"\u001b[39;49m\u001b[38;5;124;43mJohn\u001b[39;49m\u001b[38;5;124;43m\"\u001b[39;49m\u001b[43m,\u001b[49m\u001b[38;5;124;43m\"\u001b[39;49m\u001b[38;5;124;43mMaths\u001b[39;49m\u001b[38;5;124;43m\"\u001b[39;49m\u001b[43m,\u001b[49m\u001b[38;5;241;43m12\u001b[39;49m\u001b[43m)\u001b[49m\n",
      "Input \u001b[0;32mIn [115]\u001b[0m, in \u001b[0;36mTeacher.__init__\u001b[0;34m(self, first_name, subject, department)\u001b[0m\n\u001b[1;32m     61\u001b[0m \u001b[38;5;28;01mdef\u001b[39;00m \u001b[38;5;21m__init__\u001b[39m(\u001b[38;5;28mself\u001b[39m,first_name,subject,department):\n\u001b[0;32m---> 62\u001b[0m     \u001b[38;5;28;43msuper\u001b[39;49m\u001b[43m(\u001b[49m\u001b[43m)\u001b[49m\u001b[38;5;241;43m.\u001b[39;49m\u001b[38;5;21;43m__init__\u001b[39;49m\u001b[43m(\u001b[49m\u001b[43mfirst_name\u001b[49m\u001b[43m)\u001b[49m\n\u001b[1;32m     63\u001b[0m     \u001b[38;5;28mself\u001b[39m\u001b[38;5;241m.\u001b[39msubject \u001b[38;5;241m=\u001b[39m subject\n\u001b[1;32m     64\u001b[0m     \u001b[38;5;28mself\u001b[39m\u001b[38;5;241m.\u001b[39mdepartment \u001b[38;5;241m=\u001b[39m department\n",
      "\u001b[0;31mTypeError\u001b[0m: Student.__init__() missing 1 required positional argument: 'student_id'"
     ]
    }
   ],
   "source": [
    "### Let reverse it maybe it will fix the TypeError which occurs because it does-nt know which to use first\n",
    "class TeachingAssistant(Teacher,Student):\n",
    "    pass\n",
    "ta = TeachingAssistant(\"John\",\"Maths\",12)"
   ]
  },
  {
   "cell_type": "code",
   "execution_count": 114,
   "id": "9d9a4a41-f653-48a9-b045-b196c3d8e27e",
   "metadata": {},
   "outputs": [
    {
     "data": {
      "text/plain": [
       "(__main__.TeachingAssistant,\n",
       " __main__.Teacher,\n",
       " __main__.Student,\n",
       " __main__.Person,\n",
       " object)"
      ]
     },
     "execution_count": 114,
     "metadata": {},
     "output_type": "execute_result"
    }
   ],
   "source": [
    "TeachingAssistant.__mro__"
   ]
  },
  {
   "cell_type": "code",
   "execution_count": 137,
   "id": "c43ee10e-9810-440d-9fbe-2716abf5854e",
   "metadata": {},
   "outputs": [],
   "source": [
    "# Solution is to specify one first and overide it and assign them\n",
    "class TeachingAssistant(Teacher,Student):\n",
    "    def __init__(self,first_name,subject,department):\n",
    "        Student.__init__(self,first_name,student_id=None) # make id as none\n",
    "        self.subject = subject\n",
    "        self.department = department\n",
    "        "
   ]
  },
  {
   "cell_type": "code",
   "execution_count": 138,
   "id": "02a38b22-be14-40ac-a24c-c760f2ce7ace",
   "metadata": {},
   "outputs": [],
   "source": [
    "ta = TeachingAssistant(\"John\",\"Maths\",12)"
   ]
  },
  {
   "cell_type": "code",
   "execution_count": 139,
   "id": "78ec7f9f-cde0-49be-85f1-463101d3afb5",
   "metadata": {},
   "outputs": [
    {
     "data": {
      "text/plain": [
       "TeachingAssistant('John')"
      ]
     },
     "execution_count": 139,
     "metadata": {},
     "output_type": "execute_result"
    }
   ],
   "source": [
    "ta"
   ]
  },
  {
   "cell_type": "code",
   "execution_count": 140,
   "id": "b2e8f8b8-a22b-4b81-b311-10ce8212b4ca",
   "metadata": {},
   "outputs": [
    {
     "data": {
      "text/plain": [
       "'Maths'"
      ]
     },
     "execution_count": 140,
     "metadata": {},
     "output_type": "execute_result"
    }
   ],
   "source": [
    "ta.subject"
   ]
  },
  {
   "cell_type": "code",
   "execution_count": 141,
   "id": "0336edd9-3deb-4e11-9f67-54f4467afade",
   "metadata": {},
   "outputs": [
    {
     "data": {
      "text/plain": [
       "12"
      ]
     },
     "execution_count": 141,
     "metadata": {},
     "output_type": "execute_result"
    }
   ],
   "source": [
    "ta.department"
   ]
  },
  {
   "cell_type": "code",
   "execution_count": 143,
   "id": "799aecaa-d97a-45b9-b128-2d25725a1128",
   "metadata": {},
   "outputs": [],
   "source": [
    "ta.student_id = 34"
   ]
  },
  {
   "cell_type": "code",
   "execution_count": 145,
   "id": "d19148ce-e1e0-42b0-a5da-ead1942d8421",
   "metadata": {},
   "outputs": [
    {
     "data": {
      "text/plain": [
       "34"
      ]
     },
     "execution_count": 145,
     "metadata": {},
     "output_type": "execute_result"
    }
   ],
   "source": [
    "ta.student_id"
   ]
  },
  {
   "cell_type": "code",
   "execution_count": null,
   "id": "6311afc1-1e73-4b9a-a678-9770af5cc240",
   "metadata": {},
   "outputs": [],
   "source": [
    "TeachingAssistant"
   ]
  },
  {
   "cell_type": "markdown",
   "id": "8bbabb90-bfea-48a9-9b04-f53e1cc92870",
   "metadata": {},
   "source": [
    "### Method Resolution Order\n",
    "+ MRO is a concept used in inheritance. It is the order in which a method is searched for in a classes hierarchy \n",
    "+ It is useful in Python because Python supports multiple inheritance.\n",
    "The MRO satisfies 3 properties:\n",
    "\n",
    "+ Children of a class come before their parents\n",
    "+ Left parents come before right parents\n",
    "+ A class only appears once in the MRO\n"
   ]
  },
  {
   "cell_type": "code",
   "execution_count": 55,
   "id": "f315b63b-044d-495e-95f7-94a0c64323b7",
   "metadata": {},
   "outputs": [
    {
     "data": {
      "text/plain": [
       "(__main__.Student, __main__.Person, object)"
      ]
     },
     "execution_count": 55,
     "metadata": {},
     "output_type": "execute_result"
    }
   ],
   "source": [
    "### MR0\n",
    "s.__class__.__mro__"
   ]
  },
  {
   "cell_type": "markdown",
   "id": "b1ad3f1e-0794-4578-b76d-e4ceb6716cb0",
   "metadata": {},
   "source": [
    "the Liskov substitution principle. \n",
    "The principle states that “in a computer program, if S is a subtype of T, then objects of type T may be replaced with objects of type S without altering any of the desired properties of the program”."
   ]
  },
  {
   "cell_type": "markdown",
   "id": "d05ca0a9-9237-43ba-93dd-1ba7dba5a9d9",
   "metadata": {},
   "source": [
    "### Encapsulation\n",
    "+ En + capsule\n",
    "+ It describes the idea of wrapping data and the methods that work on data within one unit. \n",
    "+ This puts restrictions on accessing variables and methods directly and can prevent the accidental modification of data. \n",
    "+ To prevent accidental change, an object’s variable can only be changed by an object’s method\n",
    "Encapsulation helps with data security, allowing you to protect the data stored in a class from system-wide access. \n",
    "As the name suggests, it safeguards the internal contents of a class like a capsule.\n",
    "\n",
    "##### Summary\n",
    "+ capsule\n",
    "+ data security and restriction\n",
    "    - private: __\n",
    "    - protected:_\n",
    "    - public:\n",
    "    - @property\n",
    "+ use getters and setters to access data\n",
    "+ getter methods return the field or attribute\n",
    "+ getter methods let us change the value of the field\n",
    "\n",
    "#### Goals\n",
    "+ Data security/protection\n",
    "+ Code readability\n"
   ]
  },
  {
   "cell_type": "code",
   "execution_count": 72,
   "id": "285f647b-da92-4da3-8c71-b114815ad649",
   "metadata": {
    "tags": []
   },
   "outputs": [],
   "source": [
    "# Encapsulation \n",
    "# No Data is Protected or Private\n",
    "class Human:\n",
    "    def __init__(self,name=None,email=None,age=None):\n",
    "        self.name = name\n",
    "        self.email = email\n",
    "        self.age = age\n",
    "        \n",
    "    def __repr__(self):\n",
    "        \"For Developers showing them how to create this class object\"\n",
    "        return f\"{self.__class__.__name__}({self.name!r},{self.email},{self.age})\" \n",
    "        \n",
    "    \n",
    "    def __str__(self):\n",
    "        \"For Regular Users showing them what they need to know and what is contains\"\n",
    "        return f\"{self.__class__.__name__}(name={self.name},email={self.email},age={self.age})\"\n",
    "    \n",
    "    def create_password(self,value):\n",
    "        return f\"{self.last_name}{self.age}{value}\""
   ]
  },
  {
   "cell_type": "code",
   "execution_count": 79,
   "id": "4e429c3a-6972-4a91-8564-8bf3d6331ba7",
   "metadata": {},
   "outputs": [
    {
     "name": "stdout",
     "output_type": "stream",
     "text": [
      "Human(name=Markus,email=markus@gmail.com,age=23)\n"
     ]
    }
   ],
   "source": [
    "h = Human(\"Markus\",\"markus@gmail.com\",23)\n",
    "print(h)"
   ]
  },
  {
   "cell_type": "code",
   "execution_count": 76,
   "id": "e07646e6-90c3-48ca-8c0c-254e99e424a5",
   "metadata": {},
   "outputs": [
    {
     "data": {
      "text/plain": [
       "'Markus'"
      ]
     },
     "execution_count": 76,
     "metadata": {},
     "output_type": "execute_result"
    }
   ],
   "source": [
    "#### Can we access the attribute?\n",
    "h.name"
   ]
  },
  {
   "cell_type": "code",
   "execution_count": 80,
   "id": "76c3dc43-56e4-404e-8ac0-4ea23b0ad275",
   "metadata": {},
   "outputs": [
    {
     "name": "stdout",
     "output_type": "stream",
     "text": [
      "Human(name=Markus,email=markus@gmail.com,age=23)\n",
      "Human(name=Mathew,email=markus@gmail.com,age=23)\n"
     ]
    }
   ],
   "source": [
    "#### Can we access and modify the attribute?\n",
    "print(h)\n",
    "h.name = \"Mathew\"\n",
    "print(h)"
   ]
  },
  {
   "cell_type": "markdown",
   "id": "5682b0b5-b71f-4ba4-8734-43a1a400c6cc",
   "metadata": {},
   "source": [
    "#### Narrative\n",
    "+ If the attribute is public we can access it(getter) and modify it(setter).\n",
    "+ By default every attribute that is public has these features"
   ]
  },
  {
   "cell_type": "code",
   "execution_count": 90,
   "id": "b8cdc56b-0af8-4d7b-ab4d-3fb7ede0bffa",
   "metadata": {},
   "outputs": [],
   "source": [
    "# Encapsulation \n",
    "# No Data is Protected or Private but using the property decorator\n",
    "class Human:\n",
    "    def __init__(self,name=None,email=None,age=None):\n",
    "        self.name = name\n",
    "        self.email = email\n",
    "        self.age = age\n",
    "        \n",
    "    def __repr__(self):\n",
    "        \"For Developers showing them how to create this class object\"\n",
    "        return f\"{self.__class__.__name__}({self.name!r},{self.email},{self.age})\" \n",
    "        \n",
    "    \n",
    "    def __str__(self):\n",
    "        \"For Regular Users showing them what they need to know and what is contains\"\n",
    "        return f\"{self.__class__.__name__}(name={self.name},email={self.email},age={self.age})\"\n",
    "    \n",
    "    def create_password(self,value):\n",
    "        return f\"{self.last_name}{self.age}{value}\"\n",
    "    \n",
    "    #Create a Property from an attribute by using the @property\n",
    "    @property\n",
    "    def email(self):\n",
    "        return self.email\n",
    "    \n",
    "    @email.setter\n",
    "    def email(self,value):\n",
    "        self.email = value\n",
    "        \n",
    "\n",
    "\n"
   ]
  },
  {
   "cell_type": "code",
   "execution_count": 91,
   "id": "b682efab-ed9e-4667-914e-9d28f9c38fae",
   "metadata": {
    "collapsed": true,
    "jupyter": {
     "outputs_hidden": true
    },
    "tags": []
   },
   "outputs": [
    {
     "ename": "RecursionError",
     "evalue": "maximum recursion depth exceeded",
     "output_type": "error",
     "traceback": [
      "\u001b[0;31m---------------------------------------------------------------------------\u001b[0m",
      "\u001b[0;31mRecursionError\u001b[0m                            Traceback (most recent call last)",
      "Input \u001b[0;32mIn [91]\u001b[0m, in \u001b[0;36m<cell line: 2>\u001b[0;34m()\u001b[0m\n\u001b[1;32m      1\u001b[0m \u001b[38;5;66;03m#### Can we modify the attribute that is now a property but it is unprotected\u001b[39;00m\n\u001b[0;32m----> 2\u001b[0m h \u001b[38;5;241m=\u001b[39m \u001b[43mHuman\u001b[49m\u001b[43m(\u001b[49m\u001b[38;5;124;43m\"\u001b[39;49m\u001b[38;5;124;43mMarkus\u001b[39;49m\u001b[38;5;124;43m\"\u001b[39;49m\u001b[43m,\u001b[49m\u001b[38;5;124;43m\"\u001b[39;49m\u001b[38;5;124;43mmarkus@gmail.com\u001b[39;49m\u001b[38;5;124;43m\"\u001b[39;49m\u001b[43m,\u001b[49m\u001b[38;5;241;43m23\u001b[39;49m\u001b[43m)\u001b[49m\n",
      "Input \u001b[0;32mIn [90]\u001b[0m, in \u001b[0;36mHuman.__init__\u001b[0;34m(self, name, email, age)\u001b[0m\n\u001b[1;32m      4\u001b[0m \u001b[38;5;28;01mdef\u001b[39;00m \u001b[38;5;21m__init__\u001b[39m(\u001b[38;5;28mself\u001b[39m,name\u001b[38;5;241m=\u001b[39m\u001b[38;5;28;01mNone\u001b[39;00m,email\u001b[38;5;241m=\u001b[39m\u001b[38;5;28;01mNone\u001b[39;00m,age\u001b[38;5;241m=\u001b[39m\u001b[38;5;28;01mNone\u001b[39;00m):\n\u001b[1;32m      5\u001b[0m     \u001b[38;5;28mself\u001b[39m\u001b[38;5;241m.\u001b[39mname \u001b[38;5;241m=\u001b[39m name\n\u001b[0;32m----> 6\u001b[0m     \u001b[38;5;28mself\u001b[39m\u001b[38;5;241m.\u001b[39memail \u001b[38;5;241m=\u001b[39m email\n\u001b[1;32m      7\u001b[0m     \u001b[38;5;28mself\u001b[39m\u001b[38;5;241m.\u001b[39mage \u001b[38;5;241m=\u001b[39m age\n",
      "Input \u001b[0;32mIn [90]\u001b[0m, in \u001b[0;36mHuman.email\u001b[0;34m(self, value)\u001b[0m\n\u001b[1;32m     26\u001b[0m \u001b[38;5;129m@email\u001b[39m\u001b[38;5;241m.\u001b[39msetter\n\u001b[1;32m     27\u001b[0m \u001b[38;5;28;01mdef\u001b[39;00m \u001b[38;5;21memail\u001b[39m(\u001b[38;5;28mself\u001b[39m,value):\n\u001b[0;32m---> 28\u001b[0m     \u001b[38;5;28mself\u001b[39m\u001b[38;5;241m.\u001b[39memail \u001b[38;5;241m=\u001b[39m value\n",
      "Input \u001b[0;32mIn [90]\u001b[0m, in \u001b[0;36mHuman.email\u001b[0;34m(self, value)\u001b[0m\n\u001b[1;32m     26\u001b[0m \u001b[38;5;129m@email\u001b[39m\u001b[38;5;241m.\u001b[39msetter\n\u001b[1;32m     27\u001b[0m \u001b[38;5;28;01mdef\u001b[39;00m \u001b[38;5;21memail\u001b[39m(\u001b[38;5;28mself\u001b[39m,value):\n\u001b[0;32m---> 28\u001b[0m     \u001b[38;5;28mself\u001b[39m\u001b[38;5;241m.\u001b[39memail \u001b[38;5;241m=\u001b[39m value\n",
      "    \u001b[0;31m[... skipping similar frames: Human.email at line 28 (2968 times)]\u001b[0m\n",
      "Input \u001b[0;32mIn [90]\u001b[0m, in \u001b[0;36mHuman.email\u001b[0;34m(self, value)\u001b[0m\n\u001b[1;32m     26\u001b[0m \u001b[38;5;129m@email\u001b[39m\u001b[38;5;241m.\u001b[39msetter\n\u001b[1;32m     27\u001b[0m \u001b[38;5;28;01mdef\u001b[39;00m \u001b[38;5;21memail\u001b[39m(\u001b[38;5;28mself\u001b[39m,value):\n\u001b[0;32m---> 28\u001b[0m     \u001b[38;5;28mself\u001b[39m\u001b[38;5;241m.\u001b[39memail \u001b[38;5;241m=\u001b[39m value\n",
      "\u001b[0;31mRecursionError\u001b[0m: maximum recursion depth exceeded"
     ]
    }
   ],
   "source": [
    "#### Can we  access and modify the attribute that is now a property but it is unprotected\n",
    "h = Human(\"Markus\",\"markus@gmail.com\",23)"
   ]
  },
  {
   "cell_type": "code",
   "execution_count": 85,
   "id": "bf7b9351-6b44-46d1-8930-a9e519263861",
   "metadata": {
    "collapsed": true,
    "jupyter": {
     "outputs_hidden": true
    },
    "tags": []
   },
   "outputs": [
    {
     "ename": "RecursionError",
     "evalue": "maximum recursion depth exceeded",
     "output_type": "error",
     "traceback": [
      "\u001b[0;31m---------------------------------------------------------------------------\u001b[0m",
      "\u001b[0;31mRecursionError\u001b[0m                            Traceback (most recent call last)",
      "Input \u001b[0;32mIn [85]\u001b[0m, in \u001b[0;36m<cell line: 1>\u001b[0;34m()\u001b[0m\n\u001b[0;32m----> 1\u001b[0m h \u001b[38;5;241m=\u001b[39m \u001b[43mHuman\u001b[49m\u001b[43m(\u001b[49m\u001b[38;5;124;43m\"\u001b[39;49m\u001b[38;5;124;43mMarkus\u001b[39;49m\u001b[38;5;124;43m\"\u001b[39;49m\u001b[43m,\u001b[49m\u001b[38;5;124;43m\"\u001b[39;49m\u001b[38;5;124;43mmarkus@gmail.com\u001b[39;49m\u001b[38;5;124;43m\"\u001b[39;49m\u001b[43m,\u001b[49m\u001b[38;5;241;43m23\u001b[39;49m\u001b[43m)\u001b[49m\n\u001b[1;32m      2\u001b[0m \u001b[38;5;28mprint\u001b[39m(h)\n\u001b[1;32m      3\u001b[0m \u001b[38;5;28mprint\u001b[39m(h\u001b[38;5;241m.\u001b[39memail)\n",
      "Input \u001b[0;32mIn [81]\u001b[0m, in \u001b[0;36mHuman.__init__\u001b[0;34m(self, name, email, age)\u001b[0m\n\u001b[1;32m      4\u001b[0m \u001b[38;5;28;01mdef\u001b[39;00m \u001b[38;5;21m__init__\u001b[39m(\u001b[38;5;28mself\u001b[39m,name\u001b[38;5;241m=\u001b[39m\u001b[38;5;28;01mNone\u001b[39;00m,email\u001b[38;5;241m=\u001b[39m\u001b[38;5;28;01mNone\u001b[39;00m,age\u001b[38;5;241m=\u001b[39m\u001b[38;5;28;01mNone\u001b[39;00m):\n\u001b[1;32m      5\u001b[0m     \u001b[38;5;28mself\u001b[39m\u001b[38;5;241m.\u001b[39mname \u001b[38;5;241m=\u001b[39m name\n\u001b[0;32m----> 6\u001b[0m     \u001b[38;5;28mself\u001b[39m\u001b[38;5;241m.\u001b[39memail \u001b[38;5;241m=\u001b[39m email\n\u001b[1;32m      7\u001b[0m     \u001b[38;5;28mself\u001b[39m\u001b[38;5;241m.\u001b[39mage \u001b[38;5;241m=\u001b[39m age\n",
      "Input \u001b[0;32mIn [81]\u001b[0m, in \u001b[0;36mHuman.email\u001b[0;34m(self, value)\u001b[0m\n\u001b[1;32m     26\u001b[0m \u001b[38;5;129m@email\u001b[39m\u001b[38;5;241m.\u001b[39msetter\n\u001b[1;32m     27\u001b[0m \u001b[38;5;28;01mdef\u001b[39;00m \u001b[38;5;21memail\u001b[39m(\u001b[38;5;28mself\u001b[39m,value):\n\u001b[0;32m---> 28\u001b[0m     \u001b[38;5;28mself\u001b[39m\u001b[38;5;241m.\u001b[39memail \u001b[38;5;241m=\u001b[39m value\n",
      "Input \u001b[0;32mIn [81]\u001b[0m, in \u001b[0;36mHuman.email\u001b[0;34m(self, value)\u001b[0m\n\u001b[1;32m     26\u001b[0m \u001b[38;5;129m@email\u001b[39m\u001b[38;5;241m.\u001b[39msetter\n\u001b[1;32m     27\u001b[0m \u001b[38;5;28;01mdef\u001b[39;00m \u001b[38;5;21memail\u001b[39m(\u001b[38;5;28mself\u001b[39m,value):\n\u001b[0;32m---> 28\u001b[0m     \u001b[38;5;28mself\u001b[39m\u001b[38;5;241m.\u001b[39memail \u001b[38;5;241m=\u001b[39m value\n",
      "    \u001b[0;31m[... skipping similar frames: Human.email at line 28 (2968 times)]\u001b[0m\n",
      "Input \u001b[0;32mIn [81]\u001b[0m, in \u001b[0;36mHuman.email\u001b[0;34m(self, value)\u001b[0m\n\u001b[1;32m     26\u001b[0m \u001b[38;5;129m@email\u001b[39m\u001b[38;5;241m.\u001b[39msetter\n\u001b[1;32m     27\u001b[0m \u001b[38;5;28;01mdef\u001b[39;00m \u001b[38;5;21memail\u001b[39m(\u001b[38;5;28mself\u001b[39m,value):\n\u001b[0;32m---> 28\u001b[0m     \u001b[38;5;28mself\u001b[39m\u001b[38;5;241m.\u001b[39memail \u001b[38;5;241m=\u001b[39m value\n",
      "\u001b[0;31mRecursionError\u001b[0m: maximum recursion depth exceeded"
     ]
    }
   ],
   "source": [
    "h = Human(\"Markus\",\"markus@gmail.com\",23)\n",
    "print(h)\n",
    "print(h.email)"
   ]
  },
  {
   "cell_type": "markdown",
   "id": "20a99c9e-a721-48df-b8da-8c43bcd96821",
   "metadata": {},
   "source": [
    "#### Narrative\n",
    "* Why the RecursionError?\n",
    "+ Because when you tend to change a property that is public, it will continue to call it self\n",
    "till the recursion limit is up and it will result in this error\n",
    "+ Hence the need to make the attribute protected or private when you want to use the property decorator"
   ]
  },
  {
   "cell_type": "code",
   "execution_count": 92,
   "id": "6793b81f-6807-4aa5-a9c5-99ffa1d718a3",
   "metadata": {},
   "outputs": [],
   "source": [
    "# Encapsulation\n",
    "class HumanSecure:\n",
    "    def __init__(self,name=None,email=None,age=None):\n",
    "        self.name = name    # public\n",
    "        self._email = email # protected\n",
    "        self.age = age\n",
    "        self.__locations = [] #private\n",
    "        \n",
    "    def __repr__(self):\n",
    "        \"For Developers showing them how to create this class object\"\n",
    "        return f\"{self.__class__.__name__}({self.name!r},{self.email},{self.age})\" \n",
    "        \n",
    "    \n",
    "    def __str__(self):\n",
    "        \"For Regular Users showing them what they need to know and what is contains\"\n",
    "        return f\"{self.__class__.__name__}(name={self.name},email={self.email},age={self.age})\"\n",
    "    \n",
    "    def create_password(self,value):\n",
    "        return f\"{self.last_name}{self.age}{value}\"\n",
    "    \n",
    "    \n",
    "    #Create a Property from an attribute by using the @property\n",
    "    # the getter method: helps to access the protected or private attribute\n",
    "    @property\n",
    "    def email(self):\n",
    "        return self._email #must be a protected attrib _email not email\n",
    "    \n",
    "    # the setter method: helps to modify or set the protected or private attribute\n",
    "    @email.setter\n",
    "    def email(self,value):\n",
    "        self._email = value\n",
    "        \n",
    "\n",
    "\n",
    "    \n"
   ]
  },
  {
   "cell_type": "code",
   "execution_count": 94,
   "id": "b847d834-f6ea-4e3f-a529-02c00aaadaf8",
   "metadata": {},
   "outputs": [
    {
     "name": "stdout",
     "output_type": "stream",
     "text": [
      "HumanSecure(name=Markus,email=markus@gmail.com,age=23)\n"
     ]
    }
   ],
   "source": [
    "#### Can we access and modify the attribute that is now a property but it is protected\n",
    "h = HumanSecure(\"Markus\",\"markus@gmail.com\",23)\n",
    "print(h)"
   ]
  },
  {
   "cell_type": "code",
   "execution_count": 96,
   "id": "083b016c-921e-4ae2-b809-00c4504cb9da",
   "metadata": {},
   "outputs": [
    {
     "name": "stdout",
     "output_type": "stream",
     "text": [
      "markus@gmail.com\n",
      "mathew@gmail.com\n"
     ]
    }
   ],
   "source": [
    "#### Can we access and modify the attribute that is now a property but it is protected\n",
    "print(h.email)\n",
    "h.email = \"mathew@gmail.com\"\n",
    "print(h.email)"
   ]
  },
  {
   "cell_type": "markdown",
   "id": "0ea2f0d8-23ea-4860-98fe-27ba75ac2066",
   "metadata": {},
   "source": [
    "#### Narrative\n",
    "+ One of the usefulness of encapsulation is data protection \n",
    "+ This prevent recursion error"
   ]
  },
  {
   "cell_type": "markdown",
   "id": "50a5720a-a2cd-4704-b79f-983e941e873f",
   "metadata": {},
   "source": [
    "### Creating Properties From Attributes in Class\n",
    "+ An attribute can be converted into a property by two methods\n",
    "  - @property\n",
    "  - property(fget,fset,fdel,doc)\n"
   ]
  },
  {
   "cell_type": "code",
   "execution_count": 104,
   "id": "793b0ce7-f102-44dc-accf-c83edc86c014",
   "metadata": {
    "tags": []
   },
   "outputs": [],
   "source": [
    "### Using the Property() Function\n",
    "class Human2:\n",
    "    def __init__(self,name=None,email=None,age=None):\n",
    "        self.name = name    # public\n",
    "        self._email = email # protected\n",
    "        self.age = age\n",
    "        self.__locations = [] #private\n",
    "        \n",
    "    def __repr__(self):\n",
    "        \"For Developers showing them how to create this class object\"\n",
    "        return f\"{self.__class__.__name__}({self.name!r},{self._email},{self.age})\" \n",
    "        \n",
    "    \n",
    "    def __str__(self):\n",
    "        \"For Regular Users showing them what they need to know and what is contains\"\n",
    "        return f\"{self.__class__.__name__}(name={self.name},email={self._email},age={self.age})\"\n",
    "    \n",
    "    def get_email(self):\n",
    "        return self._email\n",
    "    \n",
    "    def set_email(self,value):\n",
    "        self._email = value\n",
    "        \n",
    "    def del_email(self):\n",
    "        del self._email\n",
    "     \n",
    "    # Create A property using the property() for email attribute\n",
    "    email = property(get_email, set_email, del_email) "
   ]
  },
  {
   "cell_type": "code",
   "execution_count": 98,
   "id": "23f84bb6-0cae-48ee-b5ff-647787107330",
   "metadata": {},
   "outputs": [
    {
     "name": "stdout",
     "output_type": "stream",
     "text": [
      "Human2(name=Matt,email=matthew@gmail.com,age=12)\n"
     ]
    }
   ],
   "source": [
    "h2 = Human2(\"Matt\",\"matthew@gmail.com\",12)\n",
    "print(h2)"
   ]
  },
  {
   "cell_type": "code",
   "execution_count": 100,
   "id": "307c4f6b-c395-45fa-9e6d-74fefa5abd7a",
   "metadata": {},
   "outputs": [
    {
     "name": "stdout",
     "output_type": "stream",
     "text": [
      "matthew@gmail.com\n",
      "Human2(name=Matt,email=matthew@gmail.com,age=12)\n",
      "Human2(name=Matt,email=example@gmail.com,age=12)\n"
     ]
    }
   ],
   "source": [
    "# Access and modifying the email\n",
    "print(h2.email)\n",
    "print(h2)\n",
    "h2.email = \"example@gmail.com\"\n",
    "print(h2)"
   ]
  },
  {
   "cell_type": "code",
   "execution_count": 107,
   "id": "e8946931-63e3-4a00-9022-f5fc6b46e3d4",
   "metadata": {},
   "outputs": [
    {
     "name": "stdout",
     "output_type": "stream",
     "text": [
      "Human2(name=Matt,email=matthew@gmail.com,age=12)\n",
      "matthew@gmail.com\n"
     ]
    }
   ],
   "source": [
    "h2 = Human2(\"Matt\",\"matthew@gmail.com\",12)\n",
    "print(h2)\n",
    "# Access and modifying the email\n",
    "print(h2.get_email())\n"
   ]
  },
  {
   "cell_type": "code",
   "execution_count": 108,
   "id": "071424bb-43b4-4247-bee0-606ce58c48fd",
   "metadata": {},
   "outputs": [
    {
     "data": {
      "text/plain": [
       "<bound method Human2.get_email of Human2('Matt',matthew@gmail.com,12)>"
      ]
     },
     "execution_count": 108,
     "metadata": {},
     "output_type": "execute_result"
    }
   ],
   "source": [
    "h2.get_email"
   ]
  },
  {
   "cell_type": "code",
   "execution_count": 109,
   "id": "7fb84d8c-16aa-43cb-be2d-2b55af5f6f4f",
   "metadata": {},
   "outputs": [],
   "source": [
    "### Using the @property decorator\n",
    "# Encapsulation\n",
    "class Human3:\n",
    "    def __init__(self,name=None,email=None,age=None):\n",
    "        self.name = name    # public\n",
    "        self._email = email # protected\n",
    "        self.age = age\n",
    "        self.__locations = [] #private\n",
    "        \n",
    "    def __repr__(self):\n",
    "        \"For Developers showing them how to create this class object\"\n",
    "        return f\"{self.__class__.__name__}({self.name!r},{self.email},{self.age})\" \n",
    "        \n",
    "    \n",
    "    def __str__(self):\n",
    "        \"For Regular Users showing them what they need to know and what is contains\"\n",
    "        return f\"{self.__class__.__name__}(name={self.name},email={self.email},age={self.age})\"\n",
    "    \n",
    "    def create_password(self,value):\n",
    "        return f\"{self.last_name}{self.age}{value}\"\n",
    "    \n",
    "    \n",
    "    #Create a Property from an attribute by using the @property\n",
    "    # the getter method: helps to access the protected or private attribute\n",
    "    @property\n",
    "    def email(self):\n",
    "        return self._email #must be a protected attrib _email not email\n",
    "    \n",
    "    # the setter method: helps to modify or set the protected or private attribute\n",
    "    @email.setter\n",
    "    def email(self,value):\n",
    "        self._email = value\n",
    "        \n",
    "\n",
    "\n",
    "    \n"
   ]
  },
  {
   "cell_type": "code",
   "execution_count": 110,
   "id": "3fdd4c4e-99fa-4b94-bbd8-2da115b68dd5",
   "metadata": {},
   "outputs": [
    {
     "name": "stdout",
     "output_type": "stream",
     "text": [
      "Human3(name=Matt,email=matthew@gmail.com,age=12)\n",
      "matthew@gmail.com\n",
      "Human3(name=Matt,email=matthew@gmail.com,age=12)\n",
      "Human3(name=Matt,email=example@gmail.com,age=12)\n"
     ]
    }
   ],
   "source": [
    "h3 = Human3(\"Matt\",\"matthew@gmail.com\",12)\n",
    "print(h3)\n",
    "# Access and modifying the email\n",
    "print(h3.email)\n",
    "print(h3)\n",
    "h3.email = \"example@gmail.com\"\n",
    "print(h3)"
   ]
  },
  {
   "cell_type": "code",
   "execution_count": null,
   "id": "2ac391ff-771a-4fe6-99b3-5187ec7a7dc3",
   "metadata": {},
   "outputs": [],
   "source": []
  },
  {
   "cell_type": "code",
   "execution_count": null,
   "id": "a9a7e0c9-0554-43eb-b7a9-d788c37e35a6",
   "metadata": {},
   "outputs": [],
   "source": [
    "### Association\n",
    "Association means the act of establishing a relationship between two unrelated classes. "
   ]
  },
  {
   "cell_type": "markdown",
   "id": "4068e242-073c-4f96-9532-c978911d240d",
   "metadata": {},
   "source": [
    "### Composition\n",
    "It defines a strong type of relationship. It can be defined as when a class can reference one or more objects of another class inside its instance variable.\n",
    "Composition is a concept that models a `has a` relationship. It enables creating complex types by combining objects of other types. This means that a class Composite can contain an object of another class Component. This relationship means that a Composite has a Component.\n",
    "\n",
    "In composition, objects can not exist independently.\n",
    "Composition is a stricter form of aggregation. It occurs when the two classes you associate are mutually dependent and can’t exist without each other.\n",
    "+ For example, take a Car and an Engine class. A Car cannot run without an Engine, while an Engine also can’t function without being built into a Car. This kind of relationship between objects is also called a PART-OF relationship.\n",
    "+ Composite\n",
    "+ Component\n",
    "\n",
    "\n",
    "Composition allows you to express that relationship by saying a Horse has a Tail.\n",
    "Composition enables you to reuse code by adding objects to other objects, as opposed to inheriting the interface and implementation of other classes.\n",
    "This provides better adaptability to change and allows applications to introduce new requirements without affecting existing code."
   ]
  },
  {
   "cell_type": "code",
   "execution_count": 162,
   "id": "2c90b595-5417-4c9f-ba4e-19ba5889fcd2",
   "metadata": {},
   "outputs": [],
   "source": [
    "# composite\n",
    "class Student:\n",
    "    def __init__(self,first_name,student_id):\n",
    "        self.first_name = first_name\n",
    "        self.student_id = student_id\n",
    "        self.address = None\n",
    "    def __str__(self):\n",
    "        \"For Regular Users showing them what they need to know and what is contains\"\n",
    "        return f\"{self.__class__.__name__}(first_name={self.first_name},student_id={self.student_id},address={self.address})\"\n",
    "\n",
    "# component ( Address of Student : a Student HAS A Address)\n",
    "class Address:\n",
    "    def __init__(self,street, city):\n",
    "        self.street = street\n",
    "        self.city = city\n",
    "    def __str__(self):\n",
    "        \"For Regular Users showing them what they need to know and what is contains\"\n",
    "        return f\"{self.__class__.__name__}(street={self.street},city={self.city})\"\n",
    "        \n",
    "                     "
   ]
  },
  {
   "cell_type": "code",
   "execution_count": 163,
   "id": "959d8523-f174-47da-8296-cea020023532",
   "metadata": {},
   "outputs": [
    {
     "name": "stdout",
     "output_type": "stream",
     "text": [
      "Student(first_name=Peter,student_id=234,address=None)\n"
     ]
    }
   ],
   "source": [
    "s1 = Student(\"Peter\",234)\n",
    "print(s1)"
   ]
  },
  {
   "cell_type": "code",
   "execution_count": 164,
   "id": "b9e3b096-7b4a-44f6-8614-6536a632cd13",
   "metadata": {},
   "outputs": [
    {
     "name": "stdout",
     "output_type": "stream",
     "text": [
      "Address(street=Wall Street,city=Manhattan)\n"
     ]
    }
   ],
   "source": [
    "# Plugin the Address\n",
    "addr1= Address(\"Wall Street\",\"Manhattan\")\n",
    "print(addr1)"
   ]
  },
  {
   "cell_type": "code",
   "execution_count": 166,
   "id": "03c53969-2476-48bc-9a57-a4fbc11bee69",
   "metadata": {},
   "outputs": [
    {
     "name": "stdout",
     "output_type": "stream",
     "text": [
      "None\n"
     ]
    }
   ],
   "source": [
    "print(s1.address)"
   ]
  },
  {
   "cell_type": "code",
   "execution_count": 167,
   "id": "329a5e73-52da-45e8-a5fe-79174d149710",
   "metadata": {},
   "outputs": [],
   "source": [
    "s1.address = addr1"
   ]
  },
  {
   "cell_type": "code",
   "execution_count": 168,
   "id": "5fe90e88-fcb8-4a4d-9456-3978d768d13d",
   "metadata": {},
   "outputs": [
    {
     "name": "stdout",
     "output_type": "stream",
     "text": [
      "Student(first_name=Peter,student_id=234,address=Address(street=Wall Street,city=Manhattan))\n"
     ]
    }
   ],
   "source": [
    "print(s1)"
   ]
  },
  {
   "cell_type": "code",
   "execution_count": null,
   "id": "ea41d63f-6b25-4a81-adbe-2f52aeaaf3d4",
   "metadata": {},
   "outputs": [],
   "source": [
    "#### Using Composition Instead of Inheritance\n",
    "+ Implement a Stack: FILO"
   ]
  },
  {
   "cell_type": "code",
   "execution_count": 169,
   "id": "bdea7b52-7f02-43ea-8575-35c1d9c08ae5",
   "metadata": {},
   "outputs": [],
   "source": [
    "class Stack(list):\n",
    "    def push(self,item):\n",
    "        self.append(item)"
   ]
  },
  {
   "cell_type": "code",
   "execution_count": 171,
   "id": "b027c15f-2d24-40bc-a329-a6dfe70eca54",
   "metadata": {},
   "outputs": [
    {
     "name": "stdout",
     "output_type": "stream",
     "text": [
      "[4, 1]\n"
     ]
    }
   ],
   "source": [
    "s = Stack()\n",
    "s.push(4)\n",
    "s.push(1)\n",
    "print(s)"
   ]
  },
  {
   "cell_type": "code",
   "execution_count": 172,
   "id": "a475041e-f035-44d7-ae19-ef481bff8ac0",
   "metadata": {},
   "outputs": [
    {
     "name": "stdout",
     "output_type": "stream",
     "text": [
      "[4]\n"
     ]
    }
   ],
   "source": [
    "# Get the last out using pop (supposed to be  4)\n",
    "s.pop()\n",
    "print(s)"
   ]
  },
  {
   "cell_type": "code",
   "execution_count": 176,
   "id": "4af9a005-6c3f-4462-8373-9ea1c21f71e7",
   "metadata": {
    "tags": []
   },
   "outputs": [
    {
     "data": {
      "text/plain": [
       "51"
      ]
     },
     "execution_count": 176,
     "metadata": {},
     "output_type": "execute_result"
    }
   ],
   "source": [
    "# Check out the side effect of inheritance\n",
    "len(dir(s))"
   ]
  },
  {
   "cell_type": "code",
   "execution_count": 175,
   "id": "20d298d2-3320-41df-958f-f8980f7d11f3",
   "metadata": {},
   "outputs": [
    {
     "data": {
      "text/plain": [
       "47"
      ]
     },
     "execution_count": 175,
     "metadata": {},
     "output_type": "execute_result"
    }
   ],
   "source": [
    "# Same as that of a list\n",
    "len(dir(list))"
   ]
  },
  {
   "cell_type": "code",
   "execution_count": 177,
   "id": "95c86a9c-674e-4690-8b19-a2492da5564b",
   "metadata": {},
   "outputs": [
    {
     "data": {
      "text/plain": [
       "4"
      ]
     },
     "execution_count": 177,
     "metadata": {},
     "output_type": "execute_result"
    }
   ],
   "source": [
    "s[0]"
   ]
  },
  {
   "cell_type": "markdown",
   "id": "6826d8b1-5af4-461e-b996-127ccee720ea",
   "metadata": {},
   "source": [
    "#### Narrative\n",
    "+ A stack doesnt allow insertion and slicing"
   ]
  },
  {
   "cell_type": "markdown",
   "id": "d793a958-e17d-4b5f-949f-f3d243b3e23b",
   "metadata": {},
   "source": [
    "#### Fixing Using Composition : a stack has a list instead of a stack is a type of list"
   ]
  },
  {
   "cell_type": "code",
   "execution_count": 186,
   "id": "6a5915e0-dffa-4361-a7f8-db096ccc558f",
   "metadata": {},
   "outputs": [],
   "source": [
    "class Stack:\n",
    "    def __init__(self,container=list()):\n",
    "        self._items = container\n",
    "    \n",
    "    def __str__(self):\n",
    "        \"For Regular Users showing them what they need to know and what is contains\"\n",
    "        return f\"{self.__class__.__name__}({self._items})\"\n",
    "        \n",
    "        \n",
    "    def push(self,item):\n",
    "        self._items.append(item)\n",
    "        \n",
    "    def pop(self):\n",
    "        return self._items.pop()"
   ]
  },
  {
   "cell_type": "code",
   "execution_count": 187,
   "id": "3e77c215-9b95-48c3-aa8a-c6c3df4e3f9f",
   "metadata": {},
   "outputs": [
    {
     "name": "stdout",
     "output_type": "stream",
     "text": [
      "Stack([4, 1])\n"
     ]
    }
   ],
   "source": [
    "s = Stack()\n",
    "s.push(4)\n",
    "s.push(1)\n",
    "print(s)"
   ]
  },
  {
   "cell_type": "code",
   "execution_count": 188,
   "id": "e0a3bdc0-0096-420a-b3c9-cabcc997cded",
   "metadata": {},
   "outputs": [
    {
     "ename": "TypeError",
     "evalue": "'Stack' object is not subscriptable",
     "output_type": "error",
     "traceback": [
      "\u001b[0;31m---------------------------------------------------------------------------\u001b[0m",
      "\u001b[0;31mTypeError\u001b[0m                                 Traceback (most recent call last)",
      "Input \u001b[0;32mIn [188]\u001b[0m, in \u001b[0;36m<cell line: 1>\u001b[0;34m()\u001b[0m\n\u001b[0;32m----> 1\u001b[0m \u001b[43ms\u001b[49m\u001b[43m[\u001b[49m\u001b[38;5;241;43m0\u001b[39;49m\u001b[43m]\u001b[49m\n",
      "\u001b[0;31mTypeError\u001b[0m: 'Stack' object is not subscriptable"
     ]
    }
   ],
   "source": [
    "# Now you cannot slice or index\n",
    "s[0]"
   ]
  },
  {
   "cell_type": "code",
   "execution_count": 189,
   "id": "da590dba-8db3-4c51-b384-1557bdf4a010",
   "metadata": {},
   "outputs": [
    {
     "name": "stdout",
     "output_type": "stream",
     "text": [
      "Stack([4])\n"
     ]
    }
   ],
   "source": [
    "s.pop()\n",
    "print(s)"
   ]
  },
  {
   "cell_type": "code",
   "execution_count": null,
   "id": "000a14ec-9af3-445e-9f7a-e502c4175ed9",
   "metadata": {},
   "outputs": [],
   "source": [
    "### Abstraction\n",
    "\n",
    "\n",
    "\n",
    "#### Goal of Abstraction\n",
    "+ Code reusability\n",
    "+ Flexibility of implementation\n",
    "+ Multiple Inheritance"
   ]
  },
  {
   "cell_type": "code",
   "execution_count": 192,
   "id": "54b48c5b-1ef8-44e9-9645-82c781791f0a",
   "metadata": {},
   "outputs": [
    {
     "data": {
      "text/plain": [
       "'Mark'"
      ]
     },
     "execution_count": 192,
     "metadata": {},
     "output_type": "execute_result"
    }
   ],
   "source": [
    "# get the actual data of an attribute  of a class\n",
    "getattr(p,'first_name')"
   ]
  },
  {
   "cell_type": "code",
   "execution_count": null,
   "id": "3fbf2a76-cc66-4d66-9e75-3298994863f8",
   "metadata": {},
   "outputs": [],
   "source": []
  }
 ],
 "metadata": {
  "kernelspec": {
   "display_name": "Python 3 (ipykernel)",
   "language": "python",
   "name": "python3"
  },
  "language_info": {
   "codemirror_mode": {
    "name": "ipython",
    "version": 3
   },
   "file_extension": ".py",
   "mimetype": "text/x-python",
   "name": "python",
   "nbconvert_exporter": "python",
   "pygments_lexer": "ipython3",
   "version": "3.10.4"
  }
 },
 "nbformat": 4,
 "nbformat_minor": 5
}
